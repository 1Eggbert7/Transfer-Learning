{
 "cells": [
  {
   "cell_type": "code",
   "execution_count": 1,
   "id": "f38baf44",
   "metadata": {},
   "outputs": [],
   "source": [
    "import torch\n",
    "import torch.nn as nn\n",
    "import torch.nn.functional as F\n",
    "\n",
    "import torch.optim as optim\n",
    "import numpy as np\n",
    "import torchvision\n",
    "from torchvision import datasets, models, transforms\n",
    "from PIL import Image\n",
    "from tqdm import tqdm\n",
    "\n",
    "#import mc_classification_learning_extension as mc"
   ]
  },
  {
   "cell_type": "code",
   "execution_count": 2,
   "id": "7d165d25",
   "metadata": {},
   "outputs": [],
   "source": [
    "np.random.seed(0)"
   ]
  },
  {
   "cell_type": "code",
   "execution_count": 3,
   "id": "23ac4bb4",
   "metadata": {},
   "outputs": [],
   "source": [
    "class PseudoLabeledDataset(torch.utils.data.Dataset):\n",
    "    def __init__(self, labeled_ds, unlabeled_ds, pseudo_labels):\n",
    "        self.labeled = labeled_ds\n",
    "        self.unlabeled = unlabeled_ds\n",
    "        self.pseudo_labels = pseudo_labels\n",
    "    \n",
    "    def __len__(self):\n",
    "        return len(self.labeled) + len(self.unlabeled)\n",
    "    \n",
    "    def __getitem__(self, index):\n",
    "        if index < len(self.labeled):\n",
    "            labeled_data = self.labeled[index]\n",
    "            return labeled_data[0], labeled_data[1]  \n",
    "        else:\n",
    "            pseudo_index = index - len(self.labeled)\n",
    "            unlabeled_data = self.unlabeled[pseudo_index][0]\n",
    "            pseudo_label = int(self.pseudo_labels[pseudo_index])\n",
    "            return unlabeled_data, pseudo_label\n",
    "    "
   ]
  },
  {
   "cell_type": "code",
   "execution_count": 4,
   "id": "62f48a75",
   "metadata": {},
   "outputs": [],
   "source": [
    "class FineTunedResNet():\n",
    "    def __init__(self, num_classes, dropout_rate=0, criterion=nn.CrossEntropyLoss(), optimizer=optim.Adam, lr=0.0005, pretrained_lr = 0.000005, betas=(0.9, 0.999), eps=1e-8, weight_decay=0) -> None:\n",
    "        self.is_finetuned = False\n",
    "        self.device = torch.device(\"cuda:0\" if torch.cuda.is_available() else \"cpu\")\n",
    "        self.n_classes = num_classes\n",
    "        self.model = models.resnet50(weights=models.ResNet50_Weights.DEFAULT)\n",
    "\n",
    "        # initially, all layers are frozen\n",
    "        for param in self.model.parameters():\n",
    "            param.requires_grad = False\n",
    "        # only the final layer is unfrozen\n",
    "        for param in self.model.fc.parameters():\n",
    "            param.requires_grad = True\n",
    "\n",
    "        num_ftrs = self.model.fc.in_features\n",
    "\n",
    "        # Replace the final layer with a Sequential containing the Dropout and Linear layers\n",
    "        self.model.fc = nn.Sequential(\n",
    "            nn.Dropout(dropout_rate),\n",
    "            nn.Linear(num_ftrs, self.n_classes)\n",
    "        )\n",
    "\n",
    "        self.model = self.model.to(self.device)\n",
    "\n",
    "        self.criterion = criterion\n",
    "\n",
    "        # define an optimizer for each layer\n",
    "        self.optimizers = []\n",
    "        for i in range(4):\n",
    "            params = [{'params': getattr(self.model, f'layer{i+1}').parameters(), 'lr': pretrained_lr}]\n",
    "            self.optimizers.append(optimizer(params, betas=betas, eps=eps, weight_decay=weight_decay))\n",
    "        self.optimizers.append(optimizer([{'params': self.model.fc.parameters(), 'lr': lr}], betas=betas, eps=eps, weight_decay=weight_decay))\n",
    "        \n",
    "        self.schedulers = []\n",
    "        # define a scheduler for each optimizer\n",
    "        for opt in self.optimizers:\n",
    "            self.schedulers.append(torch.optim.lr_scheduler.StepLR(opt, step_size=3, gamma=0.8))\n",
    "\n",
    "    def alpha_weight(self, step, num_epochs, af=2):\n",
    "        if step < num_epochs/2:\n",
    "            return 0.0\n",
    "        #elif step > num_epochs * 3/4:\n",
    "        #    return af\n",
    "        else:\n",
    "            return ((step-num_epochs/2) / (num_epochs*3/4 - num_epochs/2))# * af\n",
    "\n",
    "    def train(self, train_loader, n_batches, save_model=True, safepath=\"\", pseudolabeling={\"on\":False, \"unlabeled\":[], \"confidence\":0.9}):\n",
    "        if pseudolabeling[\"on\"] and not pseudolabeling[\"unlabeled\"]:\n",
    "                raise Exception(\"Unlabeled data for pseudo labeling is missing.\")\n",
    "                \n",
    "        self.is_finetuned = True\n",
    "        \n",
    "        #self.model.train()  # Set the model to training mode\n",
    "        \n",
    "        #if save_model and not safepath:\n",
    "        #    safepath = f\"ft_model_{self.n_classes}_{num_epochs}.pt\"\n",
    "        \n",
    "        epoch = 0\n",
    "        unlabeled_loader = pseudolabeling[\"unlabeled\"]\n",
    "        num_epochs = len(unlabeled_loader)/n_batches\n",
    "        for j, (x_un, _) in enumerate(unlabeled_loader):\n",
    "            x_un = x_un.to(self.device)\n",
    "            self.model.eval()\n",
    "            pred = self.model(x_un)\n",
    "            _, pseudo_label = torch.max(pred, 1)\n",
    "            self.model.train()\n",
    "            \n",
    "            out = self.model(x_un)\n",
    "            u_loss = self.alpha_weight(epoch, num_epochs) * self.criterion(out, pseudo_label)\n",
    "            \n",
    "            u_loss.backward()\n",
    "            for optimizer in self.optimizers:\n",
    "                    optimizer.step()\n",
    "            \n",
    "            #for epoch in range(num_epochs):\n",
    "        \n",
    "            if j % n_batches == 0:\n",
    "\n",
    "                # decide which layers to unfreeze in this epoch\n",
    "                if epoch < len(self.optimizers):\n",
    "                    for param in self.optimizers[epoch].param_groups[0]['params']:\n",
    "                        param.requires_grad = True\n",
    "\n",
    "                r_loss = 0.0\n",
    "                data_loader = train_loader\n",
    "\n",
    "                for i, data in tqdm(enumerate(data_loader, 0)):\n",
    "                    x, y = data\n",
    "                    x = x.to(self.device)\n",
    "                    y = y.to(self.device)\n",
    "\n",
    "                    # clear and update all optimizers\n",
    "                    for optimizer in self.optimizers:\n",
    "                        optimizer.zero_grad()\n",
    "\n",
    "                    out = self.model(x)\n",
    "                    loss = self.criterion(out, y)\n",
    "\n",
    "                    loss.backward()\n",
    "                    for optimizer in self.optimizers:\n",
    "                        optimizer.step()\n",
    "\n",
    "                    r_loss += loss.item()\n",
    "\n",
    "                # update all schedulers\n",
    "                for scheduler in self.schedulers:\n",
    "                    scheduler.step()\n",
    "\n",
    "                print(f\"Epoch {epoch}: loss {r_loss}\")\n",
    "                epoch += 1\n",
    "                if epoch >= num_epochs:\n",
    "                    break\n",
    "\n",
    "        #if save_model:\n",
    "        #    torch.save(self.model.state_dict(), safepath)\n",
    "\n",
    "\n",
    "    def validate(self, val_loader):\n",
    "        if not self.is_finetuned:\n",
    "            raise Exception(\"The model has not been fine-tuned. Call model.train first to fine-tune the model.\")\n",
    "            \n",
    "        self.model.eval()  # Set the model to evaluation mode\n",
    "        \n",
    "        correct = [0] * self.n_classes\n",
    "        total = [0] * self.n_classes\n",
    "        with torch.no_grad():\n",
    "            for i, data in enumerate(val_loader, 0):\n",
    "                x, y = data\n",
    "                x = x.to(self.device)\n",
    "                y = y.to(self.device)\n",
    "                c = []\n",
    "                output = self.model(x)\n",
    "                for out in output:\n",
    "                    c.append(out.argmax())\n",
    "                for i in range(len(y)):\n",
    "                    label = y[i]\n",
    "                    if label == c[i]:\n",
    "                        correct[label] += 1\n",
    "                    total[label] += 1\n",
    "        return self.get_accuracy(correct, total)\n",
    "\n",
    "    def test_single(self, test_img):\n",
    "        if not self.is_finetuned:\n",
    "            raise Exception(\"The model has not been fine-tuned. Call model.train first to fine-tune the model.\")\n",
    "        self.model.eval()\n",
    "        img_tensor = test_img.unsqueeze(0)\n",
    "        img_tensor = img_tensor.to(self.device)\n",
    "\n",
    "        out = self.model(img_tensor)\n",
    "        pred_class = out.argmax().item()\n",
    "\n",
    "        return pred_class\n",
    "    \n",
    "    def get_accuracy(self, correct, total):\n",
    "        acc_class = np.zeros((self.n_classes, 1))\n",
    "        for i in range(self.n_classes):\n",
    "            acc_class[i] = correct[i]/total[i]\n",
    "        acc = sum(correct)/sum(total)\n",
    "        return acc_class, acc\n",
    "    \n",
    "    def generate_pseudo_labels(self, unlabeled_loader, confidence):\n",
    "            pseudo_labels = []\n",
    "            high_conf_indices = []\n",
    "            with torch.no_grad():\n",
    "                for i, (x, _) in enumerate(unlabeled_loader):\n",
    "                    x = x.to(self.device)\n",
    "                    c = []\n",
    "                    output = self.model(x)\n",
    "                    for j in range(len(output)):\n",
    "                        pred = output[j].argmax()\n",
    "                        max_conf = torch.nn.functional.softmax(output[j], dim=0).max()\n",
    "                        if max_conf >= confidence:\n",
    "                            c.append(pred)\n",
    "                            high_conf_indices.append(i * unlabeled_loader.batch_size + j)\n",
    "\n",
    "                    pseudo_labels.extend(c)\n",
    "            return pseudo_labels, high_conf_indices"
   ]
  },
  {
   "cell_type": "code",
   "execution_count": 5,
   "id": "a6bbb52c",
   "metadata": {},
   "outputs": [],
   "source": [
    "traindir = \"data/mc_data/mc_training\"\n",
    "validdir = \"data/mc_data/mc_validation\"\n",
    "testdir = \"data/mc_data/mc_test\"\n",
    "\n",
    "transform  = transforms.Compose([\n",
    "    transforms.Resize(256),\n",
    "    transforms.CenterCrop(224),\n",
    "    transforms.ToTensor(),\n",
    "    transforms.Normalize(\n",
    "    [0.485, 0.456, 0.406], [0.229, 0.224, 0.225]\n",
    "    )\n",
    "])\n",
    "\n",
    "train_set = datasets.ImageFolder(traindir, transform)\n",
    "val_set = datasets.ImageFolder(validdir, transform)\n",
    "test_set = datasets.ImageFolder(testdir, transform)"
   ]
  },
  {
   "cell_type": "code",
   "execution_count": 13,
   "id": "9fb67723",
   "metadata": {},
   "outputs": [],
   "source": [
    "labeled_split = 0.1\n",
    "num_data = len(train_set)\n",
    "num_labeled = int(num_data * labeled_split)\n",
    "\n",
    "# Get the set of all unique classes\n",
    "classes = set(train_set.targets)\n",
    "labeled_indices = []\n",
    "class_labeled_indices = []\n",
    "for class_idx in classes:\n",
    "    class_indices = [i for i, target in enumerate(train_set.targets) if target == class_idx]\n",
    "    subset_size = max(1, int(len(class_indices) * labeled_split))\n",
    "    class_subset_indices = np.random.choice(class_indices, subset_size, replace=False)\n",
    "\n",
    "    labeled_indices.extend(class_subset_indices)\n",
    "    class_labeled_indices.append(class_subset_indices)\n",
    "\n",
    "#labeled_indices = np.random.choice(num_data, num_labeled, replace=False)\n",
    "unlabeled_indices = np.delete(np.arange(0, num_data, 1), labeled_indices)"
   ]
  },
  {
   "cell_type": "code",
   "execution_count": 14,
   "id": "87a1362a",
   "metadata": {},
   "outputs": [],
   "source": [
    "labeled_subset = torch.utils.data.Subset(train_set, labeled_indices)\n",
    "unlabeled_subset = torch.utils.data.Subset(train_set, unlabeled_indices)"
   ]
  },
  {
   "cell_type": "code",
   "execution_count": 15,
   "id": "778ce305",
   "metadata": {},
   "outputs": [],
   "source": [
    "labeled_loader = torch.utils.data.DataLoader(\n",
    "    labeled_subset,\n",
    "    batch_size=4,\n",
    "    shuffle=True,\n",
    "    num_workers=2\n",
    ")\n",
    "\n",
    "unlabeled_loader = torch.utils.data.DataLoader(\n",
    "    unlabeled_subset,\n",
    "    batch_size=4,\n",
    "    shuffle=False,\n",
    "    num_workers=2\n",
    ")\n",
    "\n",
    "classes = train_set.classes"
   ]
  },
  {
   "cell_type": "code",
   "execution_count": 9,
   "id": "3475a9cb",
   "metadata": {},
   "outputs": [],
   "source": [
    "val_loader = torch.utils.data.DataLoader(\n",
    "        val_set,\n",
    "        batch_size=4,\n",
    "        shuffle=True,\n",
    "        num_workers=2\n",
    "    )\n",
    "test_loader = torch.utils.data.DataLoader(\n",
    "        test_set,\n",
    "        batch_size=4,\n",
    "        shuffle=True,\n",
    "        num_workers=2\n",
    "    )"
   ]
  },
  {
   "cell_type": "code",
   "execution_count": 16,
   "id": "14eb6bd8",
   "metadata": {
    "scrolled": true
   },
   "outputs": [
    {
     "name": "stderr",
     "output_type": "stream",
     "text": [
      "73it [00:02, 25.42it/s]\n"
     ]
    },
    {
     "name": "stdout",
     "output_type": "stream",
     "text": [
      "Epoch 0: loss 259.48752093315125\n"
     ]
    },
    {
     "name": "stderr",
     "output_type": "stream",
     "text": [
      "73it [00:03, 23.86it/s]\n"
     ]
    },
    {
     "name": "stdout",
     "output_type": "stream",
     "text": [
      "Epoch 1: loss 198.3794651031494\n"
     ]
    },
    {
     "name": "stderr",
     "output_type": "stream",
     "text": [
      "73it [00:03, 20.89it/s]\n"
     ]
    },
    {
     "name": "stdout",
     "output_type": "stream",
     "text": [
      "Epoch 2: loss 162.03794312477112\n"
     ]
    },
    {
     "name": "stderr",
     "output_type": "stream",
     "text": [
      "73it [00:04, 17.88it/s]\n"
     ]
    },
    {
     "name": "stdout",
     "output_type": "stream",
     "text": [
      "Epoch 3: loss 125.6178650856018\n"
     ]
    },
    {
     "name": "stderr",
     "output_type": "stream",
     "text": [
      "73it [00:04, 17.89it/s]\n"
     ]
    },
    {
     "name": "stdout",
     "output_type": "stream",
     "text": [
      "Epoch 4: loss 93.71319144964218\n"
     ]
    },
    {
     "name": "stderr",
     "output_type": "stream",
     "text": [
      "73it [00:04, 17.86it/s]\n"
     ]
    },
    {
     "name": "stdout",
     "output_type": "stream",
     "text": [
      "Epoch 5: loss 73.12363365292549\n"
     ]
    },
    {
     "name": "stderr",
     "output_type": "stream",
     "text": [
      "73it [00:04, 17.75it/s]\n"
     ]
    },
    {
     "name": "stdout",
     "output_type": "stream",
     "text": [
      "Epoch 6: loss 59.71476849913597\n"
     ]
    },
    {
     "name": "stderr",
     "output_type": "stream",
     "text": [
      "73it [00:04, 17.65it/s]\n"
     ]
    },
    {
     "name": "stdout",
     "output_type": "stream",
     "text": [
      "Epoch 7: loss 45.780975088477135\n"
     ]
    },
    {
     "name": "stderr",
     "output_type": "stream",
     "text": [
      "73it [00:04, 17.58it/s]\n"
     ]
    },
    {
     "name": "stdout",
     "output_type": "stream",
     "text": [
      "Epoch 8: loss 43.347234696149826\n"
     ]
    },
    {
     "name": "stderr",
     "output_type": "stream",
     "text": [
      "73it [00:04, 17.47it/s]\n"
     ]
    },
    {
     "name": "stdout",
     "output_type": "stream",
     "text": [
      "Epoch 9: loss 33.46270537376404\n"
     ]
    },
    {
     "name": "stderr",
     "output_type": "stream",
     "text": [
      "73it [00:05, 14.07it/s]\n"
     ]
    },
    {
     "name": "stdout",
     "output_type": "stream",
     "text": [
      "Epoch 10: loss 28.8371010273695\n"
     ]
    },
    {
     "name": "stderr",
     "output_type": "stream",
     "text": [
      "73it [00:04, 17.69it/s]\n"
     ]
    },
    {
     "name": "stdout",
     "output_type": "stream",
     "text": [
      "Epoch 11: loss 26.96628039330244\n"
     ]
    },
    {
     "name": "stderr",
     "output_type": "stream",
     "text": [
      "73it [00:04, 17.85it/s]\n"
     ]
    },
    {
     "name": "stdout",
     "output_type": "stream",
     "text": [
      "Epoch 12: loss 25.15172991901636\n"
     ]
    },
    {
     "name": "stderr",
     "output_type": "stream",
     "text": [
      "73it [00:04, 17.79it/s]\n"
     ]
    },
    {
     "name": "stdout",
     "output_type": "stream",
     "text": [
      "Epoch 13: loss 22.247276082634926\n"
     ]
    },
    {
     "name": "stderr",
     "output_type": "stream",
     "text": [
      "73it [00:04, 17.82it/s]\n"
     ]
    },
    {
     "name": "stdout",
     "output_type": "stream",
     "text": [
      "Epoch 14: loss 22.183743327856064\n"
     ]
    },
    {
     "name": "stderr",
     "output_type": "stream",
     "text": [
      "73it [00:04, 17.79it/s]\n"
     ]
    },
    {
     "name": "stdout",
     "output_type": "stream",
     "text": [
      "Epoch 15: loss 18.51471944153309\n"
     ]
    },
    {
     "name": "stderr",
     "output_type": "stream",
     "text": [
      "73it [00:04, 17.90it/s]\n"
     ]
    },
    {
     "name": "stdout",
     "output_type": "stream",
     "text": [
      "Epoch 16: loss 16.471517138183117\n"
     ]
    },
    {
     "name": "stderr",
     "output_type": "stream",
     "text": [
      "73it [00:04, 17.99it/s]\n"
     ]
    },
    {
     "name": "stdout",
     "output_type": "stream",
     "text": [
      "Epoch 17: loss 14.568467415869236\n"
     ]
    },
    {
     "name": "stderr",
     "output_type": "stream",
     "text": [
      "73it [00:04, 18.04it/s]\n"
     ]
    },
    {
     "name": "stdout",
     "output_type": "stream",
     "text": [
      "Epoch 18: loss 13.813299026340246\n"
     ]
    },
    {
     "name": "stderr",
     "output_type": "stream",
     "text": [
      "73it [00:04, 17.98it/s]\n"
     ]
    },
    {
     "name": "stdout",
     "output_type": "stream",
     "text": [
      "Epoch 19: loss 13.729018870741129\n"
     ]
    },
    {
     "name": "stderr",
     "output_type": "stream",
     "text": [
      "73it [00:04, 17.93it/s]\n"
     ]
    },
    {
     "name": "stdout",
     "output_type": "stream",
     "text": [
      "Epoch 20: loss 12.505056705325842\n"
     ]
    },
    {
     "name": "stderr",
     "output_type": "stream",
     "text": [
      "73it [00:04, 17.93it/s]\n"
     ]
    },
    {
     "name": "stdout",
     "output_type": "stream",
     "text": [
      "Epoch 21: loss 15.445683157071471\n"
     ]
    },
    {
     "name": "stderr",
     "output_type": "stream",
     "text": [
      "73it [00:04, 17.74it/s]\n"
     ]
    },
    {
     "name": "stdout",
     "output_type": "stream",
     "text": [
      "Epoch 22: loss 14.332721062004566\n"
     ]
    },
    {
     "name": "stderr",
     "output_type": "stream",
     "text": [
      "73it [00:04, 15.31it/s]\n"
     ]
    },
    {
     "name": "stdout",
     "output_type": "stream",
     "text": [
      "Epoch 23: loss 13.002751793712378\n"
     ]
    },
    {
     "name": "stderr",
     "output_type": "stream",
     "text": [
      "73it [00:04, 16.92it/s]\n"
     ]
    },
    {
     "name": "stdout",
     "output_type": "stream",
     "text": [
      "Epoch 24: loss 11.588381756097078\n"
     ]
    },
    {
     "name": "stderr",
     "output_type": "stream",
     "text": [
      "73it [00:04, 17.82it/s]\n"
     ]
    },
    {
     "name": "stdout",
     "output_type": "stream",
     "text": [
      "Epoch 25: loss 11.064884703606367\n"
     ]
    },
    {
     "name": "stderr",
     "output_type": "stream",
     "text": [
      "73it [00:04, 17.82it/s]\n"
     ]
    },
    {
     "name": "stdout",
     "output_type": "stream",
     "text": [
      "Epoch 26: loss 12.136933200061321\n"
     ]
    },
    {
     "name": "stderr",
     "output_type": "stream",
     "text": [
      "73it [00:04, 17.88it/s]\n"
     ]
    },
    {
     "name": "stdout",
     "output_type": "stream",
     "text": [
      "Epoch 27: loss 10.346416711807251\n"
     ]
    },
    {
     "name": "stderr",
     "output_type": "stream",
     "text": [
      "73it [00:04, 17.91it/s]\n"
     ]
    },
    {
     "name": "stdout",
     "output_type": "stream",
     "text": [
      "Epoch 28: loss 12.921646237373352\n"
     ]
    },
    {
     "name": "stderr",
     "output_type": "stream",
     "text": [
      "73it [00:04, 17.71it/s]\n"
     ]
    },
    {
     "name": "stdout",
     "output_type": "stream",
     "text": [
      "Epoch 29: loss 9.957668855786324\n"
     ]
    },
    {
     "name": "stderr",
     "output_type": "stream",
     "text": [
      "73it [00:04, 17.83it/s]\n"
     ]
    },
    {
     "name": "stdout",
     "output_type": "stream",
     "text": [
      "Epoch 30: loss 9.594204626977444\n"
     ]
    },
    {
     "name": "stderr",
     "output_type": "stream",
     "text": [
      "73it [00:04, 17.92it/s]\n"
     ]
    },
    {
     "name": "stdout",
     "output_type": "stream",
     "text": [
      "Epoch 31: loss 9.388128474354744\n"
     ]
    },
    {
     "name": "stderr",
     "output_type": "stream",
     "text": [
      "73it [00:04, 17.95it/s]\n"
     ]
    },
    {
     "name": "stdout",
     "output_type": "stream",
     "text": [
      "Epoch 32: loss 10.161199793219566\n"
     ]
    },
    {
     "name": "stderr",
     "output_type": "stream",
     "text": [
      "73it [00:04, 17.87it/s]\n"
     ]
    },
    {
     "name": "stdout",
     "output_type": "stream",
     "text": [
      "Epoch 33: loss 9.462566936388612\n"
     ]
    },
    {
     "name": "stderr",
     "output_type": "stream",
     "text": [
      "73it [00:04, 17.93it/s]\n"
     ]
    },
    {
     "name": "stdout",
     "output_type": "stream",
     "text": [
      "Epoch 34: loss 8.508437674492598\n"
     ]
    },
    {
     "name": "stderr",
     "output_type": "stream",
     "text": [
      "73it [00:04, 17.94it/s]\n"
     ]
    },
    {
     "name": "stdout",
     "output_type": "stream",
     "text": [
      "Epoch 35: loss 9.939454862847924\n"
     ]
    },
    {
     "name": "stderr",
     "output_type": "stream",
     "text": [
      "73it [00:04, 16.17it/s]\n"
     ]
    },
    {
     "name": "stdout",
     "output_type": "stream",
     "text": [
      "Epoch 36: loss 8.060041582211852\n"
     ]
    },
    {
     "name": "stderr",
     "output_type": "stream",
     "text": [
      "73it [00:04, 15.81it/s]\n"
     ]
    },
    {
     "name": "stdout",
     "output_type": "stream",
     "text": [
      "Epoch 37: loss 10.733338985592127\n"
     ]
    },
    {
     "name": "stderr",
     "output_type": "stream",
     "text": [
      "73it [00:04, 17.88it/s]\n"
     ]
    },
    {
     "name": "stdout",
     "output_type": "stream",
     "text": [
      "Epoch 38: loss 8.751976758241653\n"
     ]
    },
    {
     "name": "stderr",
     "output_type": "stream",
     "text": [
      "73it [00:04, 17.90it/s]\n"
     ]
    },
    {
     "name": "stdout",
     "output_type": "stream",
     "text": [
      "Epoch 39: loss 10.949629062786698\n"
     ]
    },
    {
     "name": "stderr",
     "output_type": "stream",
     "text": [
      "73it [00:04, 17.86it/s]\n"
     ]
    },
    {
     "name": "stdout",
     "output_type": "stream",
     "text": [
      "Epoch 40: loss 9.498484645038843\n"
     ]
    },
    {
     "name": "stderr",
     "output_type": "stream",
     "text": [
      "73it [00:04, 17.86it/s]\n"
     ]
    },
    {
     "name": "stdout",
     "output_type": "stream",
     "text": [
      "Epoch 41: loss 8.909307695925236\n"
     ]
    },
    {
     "name": "stderr",
     "output_type": "stream",
     "text": [
      "73it [00:04, 17.79it/s]\n"
     ]
    },
    {
     "name": "stdout",
     "output_type": "stream",
     "text": [
      "Epoch 42: loss 8.976699465885758\n"
     ]
    },
    {
     "name": "stderr",
     "output_type": "stream",
     "text": [
      "73it [00:04, 17.82it/s]\n"
     ]
    },
    {
     "name": "stdout",
     "output_type": "stream",
     "text": [
      "Epoch 43: loss 9.927986508235335\n"
     ]
    },
    {
     "name": "stderr",
     "output_type": "stream",
     "text": [
      "73it [00:04, 17.91it/s]\n"
     ]
    },
    {
     "name": "stdout",
     "output_type": "stream",
     "text": [
      "Epoch 44: loss 8.944966897368431\n"
     ]
    },
    {
     "name": "stderr",
     "output_type": "stream",
     "text": [
      "73it [00:04, 17.85it/s]\n"
     ]
    },
    {
     "name": "stdout",
     "output_type": "stream",
     "text": [
      "Epoch 45: loss 7.144225252792239\n"
     ]
    },
    {
     "name": "stderr",
     "output_type": "stream",
     "text": [
      "73it [00:04, 17.88it/s]\n"
     ]
    },
    {
     "name": "stdout",
     "output_type": "stream",
     "text": [
      "Epoch 46: loss 9.054224649444222\n"
     ]
    },
    {
     "name": "stderr",
     "output_type": "stream",
     "text": [
      "73it [00:04, 17.88it/s]\n"
     ]
    },
    {
     "name": "stdout",
     "output_type": "stream",
     "text": [
      "Epoch 47: loss 6.947392979636788\n"
     ]
    },
    {
     "name": "stderr",
     "output_type": "stream",
     "text": [
      "73it [00:04, 17.87it/s]\n"
     ]
    },
    {
     "name": "stdout",
     "output_type": "stream",
     "text": [
      "Epoch 48: loss 8.794139862060547\n"
     ]
    },
    {
     "name": "stderr",
     "output_type": "stream",
     "text": [
      "73it [00:04, 17.78it/s]\n"
     ]
    },
    {
     "name": "stdout",
     "output_type": "stream",
     "text": [
      "Epoch 49: loss 7.7606877237558365\n"
     ]
    },
    {
     "name": "stderr",
     "output_type": "stream",
     "text": [
      "73it [00:05, 14.36it/s]\n"
     ]
    },
    {
     "name": "stdout",
     "output_type": "stream",
     "text": [
      "Epoch 50: loss 9.271527277305722\n"
     ]
    },
    {
     "name": "stderr",
     "output_type": "stream",
     "text": [
      "73it [00:04, 17.84it/s]\n"
     ]
    },
    {
     "name": "stdout",
     "output_type": "stream",
     "text": [
      "Epoch 51: loss 9.239990197122097\n"
     ]
    },
    {
     "name": "stderr",
     "output_type": "stream",
     "text": [
      "73it [00:04, 17.95it/s]\n"
     ]
    },
    {
     "name": "stdout",
     "output_type": "stream",
     "text": [
      "Epoch 52: loss 7.987172156572342\n"
     ]
    },
    {
     "name": "stderr",
     "output_type": "stream",
     "text": [
      "73it [00:04, 17.91it/s]\n"
     ]
    },
    {
     "name": "stdout",
     "output_type": "stream",
     "text": [
      "Epoch 53: loss 6.711514504626393\n"
     ]
    },
    {
     "name": "stderr",
     "output_type": "stream",
     "text": [
      "73it [00:04, 17.91it/s]\n"
     ]
    },
    {
     "name": "stdout",
     "output_type": "stream",
     "text": [
      "Epoch 54: loss 8.96571483835578\n"
     ]
    },
    {
     "name": "stderr",
     "output_type": "stream",
     "text": [
      "73it [00:04, 17.89it/s]\n"
     ]
    },
    {
     "name": "stdout",
     "output_type": "stream",
     "text": [
      "Epoch 55: loss 7.415797828696668\n"
     ]
    },
    {
     "name": "stderr",
     "output_type": "stream",
     "text": [
      "73it [00:04, 17.83it/s]\n"
     ]
    },
    {
     "name": "stdout",
     "output_type": "stream",
     "text": [
      "Epoch 56: loss 7.768172807991505\n"
     ]
    },
    {
     "name": "stderr",
     "output_type": "stream",
     "text": [
      "73it [00:04, 17.82it/s]\n"
     ]
    },
    {
     "name": "stdout",
     "output_type": "stream",
     "text": [
      "Epoch 57: loss 8.05074910260737\n"
     ]
    },
    {
     "name": "stderr",
     "output_type": "stream",
     "text": [
      "73it [00:04, 17.95it/s]\n"
     ]
    },
    {
     "name": "stdout",
     "output_type": "stream",
     "text": [
      "Epoch 58: loss 6.8721074890345335\n"
     ]
    },
    {
     "name": "stderr",
     "output_type": "stream",
     "text": [
      "73it [00:04, 17.87it/s]\n"
     ]
    },
    {
     "name": "stdout",
     "output_type": "stream",
     "text": [
      "Epoch 59: loss 8.150726228952408\n"
     ]
    },
    {
     "name": "stderr",
     "output_type": "stream",
     "text": [
      "73it [00:04, 17.92it/s]\n"
     ]
    },
    {
     "name": "stdout",
     "output_type": "stream",
     "text": [
      "Epoch 60: loss 6.600090444087982\n"
     ]
    },
    {
     "name": "stderr",
     "output_type": "stream",
     "text": [
      "73it [00:04, 17.89it/s]\n"
     ]
    },
    {
     "name": "stdout",
     "output_type": "stream",
     "text": [
      "Epoch 61: loss 7.558829626999795\n"
     ]
    },
    {
     "name": "stderr",
     "output_type": "stream",
     "text": [
      "73it [00:04, 17.76it/s]\n"
     ]
    },
    {
     "name": "stdout",
     "output_type": "stream",
     "text": [
      "Epoch 62: loss 8.831721441820264\n"
     ]
    },
    {
     "name": "stderr",
     "output_type": "stream",
     "text": [
      "73it [00:05, 14.08it/s]\n"
     ]
    },
    {
     "name": "stdout",
     "output_type": "stream",
     "text": [
      "Epoch 63: loss 7.474516283720732\n"
     ]
    },
    {
     "name": "stderr",
     "output_type": "stream",
     "text": [
      "73it [00:04, 17.81it/s]\n"
     ]
    },
    {
     "name": "stdout",
     "output_type": "stream",
     "text": [
      "Epoch 64: loss 7.763640977442265\n"
     ]
    },
    {
     "name": "stderr",
     "output_type": "stream",
     "text": [
      "73it [00:04, 17.82it/s]\n"
     ]
    },
    {
     "name": "stdout",
     "output_type": "stream",
     "text": [
      "Epoch 65: loss 8.957270991057158\n"
     ]
    },
    {
     "name": "stderr",
     "output_type": "stream",
     "text": [
      "73it [00:04, 17.90it/s]\n"
     ]
    },
    {
     "name": "stdout",
     "output_type": "stream",
     "text": [
      "Epoch 66: loss 5.216547150164843\n"
     ]
    },
    {
     "name": "stderr",
     "output_type": "stream",
     "text": [
      "73it [00:04, 17.86it/s]\n"
     ]
    },
    {
     "name": "stdout",
     "output_type": "stream",
     "text": [
      "Epoch 67: loss 8.43885584268719\n"
     ]
    },
    {
     "name": "stderr",
     "output_type": "stream",
     "text": [
      "73it [00:04, 17.91it/s]\n"
     ]
    },
    {
     "name": "stdout",
     "output_type": "stream",
     "text": [
      "Epoch 68: loss 8.365812207572162\n"
     ]
    },
    {
     "name": "stderr",
     "output_type": "stream",
     "text": [
      "73it [00:04, 17.74it/s]\n"
     ]
    },
    {
     "name": "stdout",
     "output_type": "stream",
     "text": [
      "Epoch 69: loss 7.838579750619829\n"
     ]
    },
    {
     "name": "stderr",
     "output_type": "stream",
     "text": [
      "73it [00:04, 17.88it/s]\n"
     ]
    },
    {
     "name": "stdout",
     "output_type": "stream",
     "text": [
      "Epoch 70: loss 8.059890802018344\n"
     ]
    },
    {
     "name": "stderr",
     "output_type": "stream",
     "text": [
      "73it [00:04, 17.88it/s]\n"
     ]
    },
    {
     "name": "stdout",
     "output_type": "stream",
     "text": [
      "Epoch 71: loss 7.520674891769886\n"
     ]
    },
    {
     "name": "stderr",
     "output_type": "stream",
     "text": [
      "73it [00:04, 17.81it/s]\n"
     ]
    },
    {
     "name": "stdout",
     "output_type": "stream",
     "text": [
      "Epoch 72: loss 6.123321617953479\n"
     ]
    },
    {
     "name": "stderr",
     "output_type": "stream",
     "text": [
      "73it [00:04, 17.78it/s]\n"
     ]
    },
    {
     "name": "stdout",
     "output_type": "stream",
     "text": [
      "Epoch 73: loss 6.258097080513835\n"
     ]
    },
    {
     "name": "stderr",
     "output_type": "stream",
     "text": [
      "73it [00:04, 17.89it/s]\n"
     ]
    },
    {
     "name": "stdout",
     "output_type": "stream",
     "text": [
      "Epoch 74: loss 7.142702309414744\n"
     ]
    },
    {
     "name": "stderr",
     "output_type": "stream",
     "text": [
      "73it [00:04, 17.84it/s]\n"
     ]
    },
    {
     "name": "stdout",
     "output_type": "stream",
     "text": [
      "Epoch 75: loss 7.4114334266632795\n"
     ]
    },
    {
     "name": "stderr",
     "output_type": "stream",
     "text": [
      "73it [00:04, 15.50it/s]\n"
     ]
    },
    {
     "name": "stdout",
     "output_type": "stream",
     "text": [
      "Epoch 76: loss 9.617822005413473\n"
     ]
    },
    {
     "name": "stderr",
     "output_type": "stream",
     "text": [
      "73it [00:04, 16.44it/s]\n"
     ]
    },
    {
     "name": "stdout",
     "output_type": "stream",
     "text": [
      "Epoch 77: loss 6.9263916015625\n"
     ]
    },
    {
     "name": "stderr",
     "output_type": "stream",
     "text": [
      "73it [00:04, 17.92it/s]\n"
     ]
    },
    {
     "name": "stdout",
     "output_type": "stream",
     "text": [
      "Epoch 78: loss 7.089059522375464\n"
     ]
    },
    {
     "name": "stderr",
     "output_type": "stream",
     "text": [
      "73it [00:04, 17.74it/s]\n"
     ]
    },
    {
     "name": "stdout",
     "output_type": "stream",
     "text": [
      "Epoch 79: loss 7.1777111906558275\n"
     ]
    },
    {
     "name": "stderr",
     "output_type": "stream",
     "text": [
      "73it [00:04, 17.87it/s]\n"
     ]
    },
    {
     "name": "stdout",
     "output_type": "stream",
     "text": [
      "Epoch 80: loss 8.481403497979045\n"
     ]
    },
    {
     "name": "stderr",
     "output_type": "stream",
     "text": [
      "73it [00:04, 17.82it/s]\n"
     ]
    },
    {
     "name": "stdout",
     "output_type": "stream",
     "text": [
      "Epoch 81: loss 7.668276458978653\n"
     ]
    },
    {
     "name": "stderr",
     "output_type": "stream",
     "text": [
      "73it [00:04, 17.76it/s]\n"
     ]
    },
    {
     "name": "stdout",
     "output_type": "stream",
     "text": [
      "Epoch 82: loss 8.43086860049516\n"
     ]
    },
    {
     "name": "stderr",
     "output_type": "stream",
     "text": [
      "73it [00:04, 17.79it/s]\n"
     ]
    },
    {
     "name": "stdout",
     "output_type": "stream",
     "text": [
      "Epoch 83: loss 6.385275202803314\n"
     ]
    },
    {
     "name": "stderr",
     "output_type": "stream",
     "text": [
      "73it [00:04, 17.86it/s]\n"
     ]
    },
    {
     "name": "stdout",
     "output_type": "stream",
     "text": [
      "Epoch 84: loss 10.312651264481246\n"
     ]
    },
    {
     "name": "stderr",
     "output_type": "stream",
     "text": [
      "73it [00:04, 17.84it/s]\n"
     ]
    },
    {
     "name": "stdout",
     "output_type": "stream",
     "text": [
      "Epoch 85: loss 7.199020277708769\n"
     ]
    },
    {
     "name": "stderr",
     "output_type": "stream",
     "text": [
      "73it [00:04, 17.91it/s]\n"
     ]
    },
    {
     "name": "stdout",
     "output_type": "stream",
     "text": [
      "Epoch 86: loss 7.92336561717093\n"
     ]
    },
    {
     "name": "stderr",
     "output_type": "stream",
     "text": [
      "73it [00:04, 17.88it/s]\n"
     ]
    },
    {
     "name": "stdout",
     "output_type": "stream",
     "text": [
      "Epoch 87: loss 10.652787069790065\n"
     ]
    },
    {
     "name": "stderr",
     "output_type": "stream",
     "text": [
      "73it [00:04, 17.92it/s]\n"
     ]
    },
    {
     "name": "stdout",
     "output_type": "stream",
     "text": [
      "Epoch 88: loss 8.034868601709604\n"
     ]
    },
    {
     "name": "stderr",
     "output_type": "stream",
     "text": [
      "73it [00:04, 16.54it/s]\n"
     ]
    },
    {
     "name": "stdout",
     "output_type": "stream",
     "text": [
      "Epoch 89: loss 8.139337953180075\n"
     ]
    },
    {
     "name": "stderr",
     "output_type": "stream",
     "text": [
      "73it [00:04, 15.78it/s]\n"
     ]
    },
    {
     "name": "stdout",
     "output_type": "stream",
     "text": [
      "Epoch 90: loss 7.827641731128097\n"
     ]
    },
    {
     "name": "stderr",
     "output_type": "stream",
     "text": [
      "73it [00:04, 17.87it/s]\n"
     ]
    },
    {
     "name": "stdout",
     "output_type": "stream",
     "text": [
      "Epoch 91: loss 7.947548542171717\n"
     ]
    },
    {
     "name": "stderr",
     "output_type": "stream",
     "text": [
      "73it [00:04, 17.81it/s]\n"
     ]
    },
    {
     "name": "stdout",
     "output_type": "stream",
     "text": [
      "Epoch 92: loss 6.5782490419223905\n"
     ]
    },
    {
     "name": "stderr",
     "output_type": "stream",
     "text": [
      "73it [00:04, 17.85it/s]\n"
     ]
    },
    {
     "name": "stdout",
     "output_type": "stream",
     "text": [
      "Epoch 93: loss 7.341130951419473\n"
     ]
    },
    {
     "name": "stderr",
     "output_type": "stream",
     "text": [
      "73it [00:04, 17.83it/s]\n"
     ]
    },
    {
     "name": "stdout",
     "output_type": "stream",
     "text": [
      "Epoch 94: loss 8.344713728874922\n"
     ]
    },
    {
     "name": "stderr",
     "output_type": "stream",
     "text": [
      "73it [00:04, 17.83it/s]\n"
     ]
    },
    {
     "name": "stdout",
     "output_type": "stream",
     "text": [
      "Epoch 95: loss 8.768610265105963\n"
     ]
    },
    {
     "name": "stderr",
     "output_type": "stream",
     "text": [
      "73it [00:04, 17.76it/s]\n"
     ]
    },
    {
     "name": "stdout",
     "output_type": "stream",
     "text": [
      "Epoch 96: loss 7.83632255345583\n"
     ]
    },
    {
     "name": "stderr",
     "output_type": "stream",
     "text": [
      "73it [00:04, 17.83it/s]\n"
     ]
    },
    {
     "name": "stdout",
     "output_type": "stream",
     "text": [
      "Epoch 97: loss 9.270234359428287\n"
     ]
    },
    {
     "name": "stderr",
     "output_type": "stream",
     "text": [
      "73it [00:04, 17.77it/s]\n"
     ]
    },
    {
     "name": "stdout",
     "output_type": "stream",
     "text": [
      "Epoch 98: loss 7.858106744475663\n"
     ]
    },
    {
     "name": "stderr",
     "output_type": "stream",
     "text": [
      "73it [00:04, 17.92it/s]\n"
     ]
    },
    {
     "name": "stdout",
     "output_type": "stream",
     "text": [
      "Epoch 99: loss 7.287183251231909\n"
     ]
    },
    {
     "name": "stderr",
     "output_type": "stream",
     "text": [
      "73it [00:04, 17.89it/s]\n"
     ]
    },
    {
     "name": "stdout",
     "output_type": "stream",
     "text": [
      "Epoch 100: loss 6.515707416459918\n"
     ]
    },
    {
     "name": "stderr",
     "output_type": "stream",
     "text": [
      "73it [00:04, 17.87it/s]\n"
     ]
    },
    {
     "name": "stdout",
     "output_type": "stream",
     "text": [
      "Epoch 101: loss 8.38829866424203\n"
     ]
    },
    {
     "name": "stderr",
     "output_type": "stream",
     "text": [
      "73it [00:04, 17.87it/s]\n"
     ]
    },
    {
     "name": "stdout",
     "output_type": "stream",
     "text": [
      "Epoch 102: loss 6.7500598123297095\n"
     ]
    },
    {
     "name": "stderr",
     "output_type": "stream",
     "text": [
      "73it [00:05, 14.13it/s]\n"
     ]
    },
    {
     "name": "stdout",
     "output_type": "stream",
     "text": [
      "Epoch 103: loss 7.161962736397982\n"
     ]
    },
    {
     "name": "stderr",
     "output_type": "stream",
     "text": [
      "73it [00:04, 17.86it/s]\n"
     ]
    },
    {
     "name": "stdout",
     "output_type": "stream",
     "text": [
      "Epoch 104: loss 6.945156129077077\n"
     ]
    },
    {
     "name": "stderr",
     "output_type": "stream",
     "text": [
      "73it [00:04, 17.86it/s]\n"
     ]
    },
    {
     "name": "stdout",
     "output_type": "stream",
     "text": [
      "Epoch 105: loss 7.556191432289779\n"
     ]
    },
    {
     "name": "stderr",
     "output_type": "stream",
     "text": [
      "73it [00:04, 17.89it/s]\n"
     ]
    },
    {
     "name": "stdout",
     "output_type": "stream",
     "text": [
      "Epoch 106: loss 7.687712199985981\n"
     ]
    },
    {
     "name": "stderr",
     "output_type": "stream",
     "text": [
      "73it [00:04, 17.84it/s]\n"
     ]
    },
    {
     "name": "stdout",
     "output_type": "stream",
     "text": [
      "Epoch 107: loss 9.935396689921618\n"
     ]
    },
    {
     "name": "stderr",
     "output_type": "stream",
     "text": [
      "73it [00:04, 17.92it/s]\n"
     ]
    },
    {
     "name": "stdout",
     "output_type": "stream",
     "text": [
      "Epoch 108: loss 7.173551447689533\n"
     ]
    },
    {
     "name": "stderr",
     "output_type": "stream",
     "text": [
      "73it [00:04, 17.67it/s]\n"
     ]
    },
    {
     "name": "stdout",
     "output_type": "stream",
     "text": [
      "Epoch 109: loss 9.175725182518363\n"
     ]
    },
    {
     "name": "stderr",
     "output_type": "stream",
     "text": [
      "73it [00:04, 17.85it/s]\n"
     ]
    },
    {
     "name": "stdout",
     "output_type": "stream",
     "text": [
      "Epoch 110: loss 8.563073688186705\n"
     ]
    },
    {
     "name": "stderr",
     "output_type": "stream",
     "text": [
      "73it [00:04, 17.86it/s]\n"
     ]
    },
    {
     "name": "stdout",
     "output_type": "stream",
     "text": [
      "Epoch 111: loss 7.2671637032181025\n"
     ]
    },
    {
     "name": "stderr",
     "output_type": "stream",
     "text": [
      "73it [00:04, 17.85it/s]\n"
     ]
    },
    {
     "name": "stdout",
     "output_type": "stream",
     "text": [
      "Epoch 112: loss 7.008296033367515\n"
     ]
    },
    {
     "name": "stderr",
     "output_type": "stream",
     "text": [
      "73it [00:04, 17.82it/s]\n"
     ]
    },
    {
     "name": "stdout",
     "output_type": "stream",
     "text": [
      "Epoch 113: loss 7.747476814314723\n"
     ]
    },
    {
     "name": "stderr",
     "output_type": "stream",
     "text": [
      "73it [00:04, 17.94it/s]\n"
     ]
    },
    {
     "name": "stdout",
     "output_type": "stream",
     "text": [
      "Epoch 114: loss 8.165400149300694\n"
     ]
    },
    {
     "name": "stderr",
     "output_type": "stream",
     "text": [
      "73it [00:04, 17.84it/s]\n"
     ]
    },
    {
     "name": "stdout",
     "output_type": "stream",
     "text": [
      "Epoch 115: loss 7.078112091869116\n"
     ]
    },
    {
     "name": "stderr",
     "output_type": "stream",
     "text": [
      "73it [00:05, 14.17it/s]\n"
     ]
    },
    {
     "name": "stdout",
     "output_type": "stream",
     "text": [
      "Epoch 116: loss 7.411943709477782\n"
     ]
    },
    {
     "name": "stderr",
     "output_type": "stream",
     "text": [
      "73it [00:04, 17.82it/s]\n"
     ]
    },
    {
     "name": "stdout",
     "output_type": "stream",
     "text": [
      "Epoch 117: loss 6.9980242643505335\n"
     ]
    },
    {
     "name": "stderr",
     "output_type": "stream",
     "text": [
      "73it [00:04, 17.84it/s]\n"
     ]
    },
    {
     "name": "stdout",
     "output_type": "stream",
     "text": [
      "Epoch 118: loss 8.023639580234885\n"
     ]
    },
    {
     "name": "stderr",
     "output_type": "stream",
     "text": [
      "73it [00:04, 17.86it/s]\n"
     ]
    },
    {
     "name": "stdout",
     "output_type": "stream",
     "text": [
      "Epoch 119: loss 7.243184294551611\n"
     ]
    },
    {
     "name": "stderr",
     "output_type": "stream",
     "text": [
      "73it [00:04, 17.87it/s]\n"
     ]
    },
    {
     "name": "stdout",
     "output_type": "stream",
     "text": [
      "Epoch 120: loss 8.740171084180474\n"
     ]
    },
    {
     "name": "stderr",
     "output_type": "stream",
     "text": [
      "73it [00:04, 17.85it/s]\n"
     ]
    },
    {
     "name": "stdout",
     "output_type": "stream",
     "text": [
      "Epoch 121: loss 8.59961883816868\n"
     ]
    },
    {
     "name": "stderr",
     "output_type": "stream",
     "text": [
      "73it [00:04, 17.75it/s]\n"
     ]
    },
    {
     "name": "stdout",
     "output_type": "stream",
     "text": [
      "Epoch 122: loss 7.1280162669718266\n"
     ]
    },
    {
     "name": "stderr",
     "output_type": "stream",
     "text": [
      "73it [00:04, 17.90it/s]\n"
     ]
    },
    {
     "name": "stdout",
     "output_type": "stream",
     "text": [
      "Epoch 123: loss 7.2376061556860805\n"
     ]
    },
    {
     "name": "stderr",
     "output_type": "stream",
     "text": [
      "73it [00:04, 17.89it/s]\n"
     ]
    },
    {
     "name": "stdout",
     "output_type": "stream",
     "text": [
      "Epoch 124: loss 8.641208034008741\n"
     ]
    },
    {
     "name": "stderr",
     "output_type": "stream",
     "text": [
      "73it [00:04, 17.88it/s]\n"
     ]
    },
    {
     "name": "stdout",
     "output_type": "stream",
     "text": [
      "Epoch 125: loss 7.230211474001408\n"
     ]
    },
    {
     "name": "stderr",
     "output_type": "stream",
     "text": [
      "73it [00:04, 17.96it/s]\n"
     ]
    },
    {
     "name": "stdout",
     "output_type": "stream",
     "text": [
      "Epoch 126: loss 8.391946841962636\n"
     ]
    },
    {
     "name": "stderr",
     "output_type": "stream",
     "text": [
      "73it [00:04, 17.90it/s]\n"
     ]
    },
    {
     "name": "stdout",
     "output_type": "stream",
     "text": [
      "Epoch 127: loss 7.523797178640962\n"
     ]
    },
    {
     "name": "stderr",
     "output_type": "stream",
     "text": [
      "73it [00:04, 17.83it/s]\n"
     ]
    },
    {
     "name": "stdout",
     "output_type": "stream",
     "text": [
      "Epoch 128: loss 8.563752168789506\n"
     ]
    },
    {
     "name": "stderr",
     "output_type": "stream",
     "text": [
      "73it [00:04, 15.46it/s]\n"
     ]
    },
    {
     "name": "stdout",
     "output_type": "stream",
     "text": [
      "Epoch 129: loss 7.81800137180835\n"
     ]
    },
    {
     "name": "stderr",
     "output_type": "stream",
     "text": [
      "73it [00:04, 17.03it/s]\n"
     ]
    },
    {
     "name": "stdout",
     "output_type": "stream",
     "text": [
      "Epoch 130: loss 8.005762005224824\n"
     ]
    },
    {
     "name": "stderr",
     "output_type": "stream",
     "text": [
      "73it [00:04, 17.88it/s]\n"
     ]
    },
    {
     "name": "stdout",
     "output_type": "stream",
     "text": [
      "Epoch 131: loss 7.1398048512637615\n"
     ]
    },
    {
     "name": "stderr",
     "output_type": "stream",
     "text": [
      "73it [00:04, 17.86it/s]\n"
     ]
    },
    {
     "name": "stdout",
     "output_type": "stream",
     "text": [
      "Epoch 132: loss 7.655453495681286\n"
     ]
    }
   ],
   "source": [
    "ps_model = FineTunedResNet(37)\n",
    "ps_settings = {\"on\": True, \n",
    "               \"unlabeled\": unlabeled_loader}\n",
    "# middle number != num_epochs, \n",
    "# determines after how many batches of unlabeled data one epoch of training is done on the labeled set\n",
    "ps_model.train(labeled_loader, 5, pseudolabeling=ps_settings)"
   ]
  },
  {
   "cell_type": "code",
   "execution_count": 17,
   "id": "0ca60908",
   "metadata": {
    "scrolled": true
   },
   "outputs": [
    {
     "data": {
      "text/plain": [
       "(array([[0.75      ],\n",
       "        [0.55      ],\n",
       "        [0.7       ],\n",
       "        [0.89473684],\n",
       "        [0.8       ],\n",
       "        [0.77777778],\n",
       "        [0.8       ],\n",
       "        [0.6       ],\n",
       "        [0.8       ],\n",
       "        [0.65      ],\n",
       "        [0.78947368],\n",
       "        [1.        ],\n",
       "        [0.8       ],\n",
       "        [0.8       ],\n",
       "        [0.9       ],\n",
       "        [0.75      ],\n",
       "        [0.7       ],\n",
       "        [0.55      ],\n",
       "        [0.89473684],\n",
       "        [1.        ],\n",
       "        [0.85      ],\n",
       "        [1.        ],\n",
       "        [0.95      ],\n",
       "        [1.        ],\n",
       "        [1.        ],\n",
       "        [0.9       ],\n",
       "        [0.9       ],\n",
       "        [0.89473684],\n",
       "        [0.9       ],\n",
       "        [0.9       ],\n",
       "        [0.95      ],\n",
       "        [0.85      ],\n",
       "        [0.75      ],\n",
       "        [1.        ],\n",
       "        [0.6       ],\n",
       "        [0.95      ],\n",
       "        [0.95      ]]),\n",
       " 0.8337874659400545)"
      ]
     },
     "execution_count": 17,
     "metadata": {},
     "output_type": "execute_result"
    }
   ],
   "source": [
    "ps_model.validate(val_loader)"
   ]
  },
  {
   "cell_type": "code",
   "execution_count": 18,
   "id": "fcaad9c1",
   "metadata": {},
   "outputs": [
    {
     "data": {
      "text/plain": [
       "(array([[0.6122449 ],\n",
       "        [0.72      ],\n",
       "        [0.7       ],\n",
       "        [0.72727273],\n",
       "        [0.61      ],\n",
       "        [0.71134021],\n",
       "        [0.77      ],\n",
       "        [0.57      ],\n",
       "        [0.57      ],\n",
       "        [0.61      ],\n",
       "        [0.66      ],\n",
       "        [0.74      ],\n",
       "        [0.73      ],\n",
       "        [0.56      ],\n",
       "        [0.97      ],\n",
       "        [0.79      ],\n",
       "        [0.94949495],\n",
       "        [0.68      ],\n",
       "        [0.88      ],\n",
       "        [0.88      ],\n",
       "        [0.99      ],\n",
       "        [0.95      ],\n",
       "        [0.96      ],\n",
       "        [1.        ],\n",
       "        [0.98989899],\n",
       "        [0.94      ],\n",
       "        [0.91      ],\n",
       "        [0.86      ],\n",
       "        [0.79      ],\n",
       "        [0.96      ],\n",
       "        [0.97      ],\n",
       "        [0.98      ],\n",
       "        [0.92929293],\n",
       "        [0.95      ],\n",
       "        [0.61797753],\n",
       "        [0.94      ],\n",
       "        [0.92      ]]),\n",
       " 0.8143908421913328)"
      ]
     },
     "execution_count": 18,
     "metadata": {},
     "output_type": "execute_result"
    }
   ],
   "source": [
    "ps_model.validate(test_loader)"
   ]
  }
 ],
 "metadata": {
  "kernelspec": {
   "display_name": "Python 3",
   "language": "python",
   "name": "python3"
  },
  "language_info": {
   "codemirror_mode": {
    "name": "ipython",
    "version": 3
   },
   "file_extension": ".py",
   "mimetype": "text/x-python",
   "name": "python",
   "nbconvert_exporter": "python",
   "pygments_lexer": "ipython3",
   "version": "3.10.10"
  }
 },
 "nbformat": 4,
 "nbformat_minor": 5
}
