{
 "cells": [
  {
   "cell_type": "code",
   "execution_count": 1,
   "id": "f38baf44",
   "metadata": {},
   "outputs": [],
   "source": [
    "import torch\n",
    "import torch.nn as nn\n",
    "import torch.nn.functional as F\n",
    "\n",
    "import torch.optim as optim\n",
    "import numpy as np\n",
    "import torchvision\n",
    "from torchvision import datasets, models, transforms\n",
    "from PIL import Image\n",
    "from tqdm import tqdm\n",
    "\n",
    "import mc_classification_learning_extension as mc"
   ]
  },
  {
   "cell_type": "code",
   "execution_count": 2,
   "id": "7d165d25",
   "metadata": {},
   "outputs": [],
   "source": [
    "np.random.seed(0)"
   ]
  },
  {
   "cell_type": "code",
   "execution_count": 3,
   "id": "a6bbb52c",
   "metadata": {},
   "outputs": [],
   "source": [
    "traindir = \"data/mc_data/mc_training\"\n",
    "validdir = \"data/mc_data/mc_validation\"\n",
    "testdir = \"data/mc_data/mc_test\"\n",
    "\n",
    "transform  = transforms.Compose([\n",
    "    transforms.Resize(256),\n",
    "    transforms.CenterCrop(224),\n",
    "    transforms.ToTensor(),\n",
    "    transforms.Normalize(\n",
    "    [0.485, 0.456, 0.406], [0.229, 0.224, 0.225]\n",
    "    )\n",
    "])\n",
    "\n",
    "train_set = datasets.ImageFolder(traindir, transform)\n",
    "val_set = datasets.ImageFolder(validdir, transform)\n",
    "test_set = datasets.ImageFolder(testdir, transform)"
   ]
  },
  {
   "cell_type": "code",
   "execution_count": 4,
   "id": "9fb67723",
   "metadata": {},
   "outputs": [],
   "source": [
    "labeled_split = 0.1\n",
    "num_data = len(train_set)\n",
    "num_labeled = int(num_data * labeled_split)\n",
    "\n",
    "# Get the set of all unique classes\n",
    "classes = set(train_set.targets)\n",
    "labeled_indices = []\n",
    "class_labeled_indices = []\n",
    "for class_idx in classes:\n",
    "    class_indices = [i for i, target in enumerate(train_set.targets) if target == class_idx]\n",
    "    subset_size = max(1, int(len(class_indices) * labeled_split))\n",
    "    class_subset_indices = np.random.choice(class_indices, subset_size, replace=False)\n",
    "\n",
    "    labeled_indices.extend(class_subset_indices)\n",
    "    class_labeled_indices.append(class_subset_indices)\n",
    "\n",
    "#labeled_indices = np.random.choice(num_data, num_labeled, replace=False)\n",
    "unlabeled_indices = np.delete(np.arange(0, num_data, 1), labeled_indices)"
   ]
  },
  {
   "cell_type": "code",
   "execution_count": 5,
   "id": "87a1362a",
   "metadata": {},
   "outputs": [],
   "source": [
    "labeled_subset = torch.utils.data.Subset(train_set, labeled_indices)\n",
    "unlabeled_subset = torch.utils.data.Subset(train_set, unlabeled_indices)"
   ]
  },
  {
   "cell_type": "code",
   "execution_count": 6,
   "id": "f8d4fd75",
   "metadata": {},
   "outputs": [
    {
     "name": "stdout",
     "output_type": "stream",
     "text": [
      "0\n",
      "('data/mc_data/mc_training/Abyssinian/Abyssinian_145.jpg', 0)\n",
      "('data/mc_data/mc_training/Abyssinian/Abyssinian_124.jpg', 0)\n",
      "('data/mc_data/mc_training/Abyssinian/Abyssinian_127.jpg', 0)\n",
      "('data/mc_data/mc_training/Abyssinian/Abyssinian_174.jpg', 0)\n",
      "('data/mc_data/mc_training/Abyssinian/Abyssinian_140.jpg', 0)\n",
      "('data/mc_data/mc_training/Abyssinian/Abyssinian_167.jpg', 0)\n",
      "('data/mc_data/mc_training/Abyssinian/Abyssinian_160.jpg', 0)\n",
      "('data/mc_data/mc_training/Abyssinian/Abyssinian_164.jpg', 0)\n",
      "\n",
      "1\n",
      "('data/mc_data/mc_training/Bengal/Bengal_103.jpg', 1)\n",
      "('data/mc_data/mc_training/Bengal/Bengal_14.jpg', 1)\n",
      "('data/mc_data/mc_training/Bengal/Bengal_156.jpg', 1)\n",
      "('data/mc_data/mc_training/Bengal/Bengal_121.jpg', 1)\n",
      "('data/mc_data/mc_training/Bengal/Bengal_104.jpg', 1)\n",
      "('data/mc_data/mc_training/Bengal/Bengal_133.jpg', 1)\n",
      "('data/mc_data/mc_training/Bengal/Bengal_110.jpg', 1)\n",
      "('data/mc_data/mc_training/Bengal/Bengal_106.jpg', 1)\n",
      "\n",
      "2\n",
      "('data/mc_data/mc_training/Birman/Birman_170.jpg', 2)\n",
      "('data/mc_data/mc_training/Birman/Birman_16.jpg', 2)\n",
      "('data/mc_data/mc_training/Birman/Birman_127.jpg', 2)\n",
      "('data/mc_data/mc_training/Birman/Birman_10.jpg', 2)\n",
      "('data/mc_data/mc_training/Birman/Birman_144.jpg', 2)\n",
      "('data/mc_data/mc_training/Birman/Birman_105.jpg', 2)\n",
      "('data/mc_data/mc_training/Birman/Birman_145.jpg', 2)\n",
      "('data/mc_data/mc_training/Birman/Birman_123.jpg', 2)\n",
      "\n",
      "3\n",
      "('data/mc_data/mc_training/Bombay/Bombay_140.jpg', 3)\n",
      "('data/mc_data/mc_training/Bombay/Bombay_164.jpg', 3)\n",
      "('data/mc_data/mc_training/Bombay/Bombay_141.jpg', 3)\n",
      "('data/mc_data/mc_training/Bombay/Bombay_171.jpg', 3)\n",
      "('data/mc_data/mc_training/Bombay/Bombay_169.jpg', 3)\n",
      "('data/mc_data/mc_training/Bombay/Bombay_161.jpg', 3)\n",
      "('data/mc_data/mc_training/Bombay/Bombay_144.jpg', 3)\n",
      "\n",
      "4\n",
      "('data/mc_data/mc_training/British_Shorthair/British_Shorthair_176.jpg', 4)\n",
      "('data/mc_data/mc_training/British_Shorthair/British_Shorthair_157.jpg', 4)\n",
      "('data/mc_data/mc_training/British_Shorthair/British_Shorthair_174.jpg', 4)\n",
      "('data/mc_data/mc_training/British_Shorthair/British_Shorthair_169.jpg', 4)\n",
      "('data/mc_data/mc_training/British_Shorthair/British_Shorthair_163.jpg', 4)\n",
      "('data/mc_data/mc_training/British_Shorthair/British_Shorthair_118.jpg', 4)\n",
      "('data/mc_data/mc_training/British_Shorthair/British_Shorthair_144.jpg', 4)\n",
      "('data/mc_data/mc_training/British_Shorthair/British_Shorthair_158.jpg', 4)\n",
      "\n",
      "5\n",
      "('data/mc_data/mc_training/Egyptian_Mau/Egyptian_Mau_111.jpg', 5)\n",
      "('data/mc_data/mc_training/Egyptian_Mau/Egyptian_Mau_149.jpg', 5)\n",
      "('data/mc_data/mc_training/Egyptian_Mau/Egyptian_Mau_112.jpg', 5)\n",
      "('data/mc_data/mc_training/Egyptian_Mau/Egyptian_Mau_154.jpg', 5)\n",
      "('data/mc_data/mc_training/Egyptian_Mau/Egyptian_Mau_113.jpg', 5)\n",
      "('data/mc_data/mc_training/Egyptian_Mau/Egyptian_Mau_122.jpg', 5)\n",
      "('data/mc_data/mc_training/Egyptian_Mau/Egyptian_Mau_161.jpg', 5)\n",
      "\n",
      "6\n",
      "('data/mc_data/mc_training/Maine_Coon/Maine_Coon_163.jpg', 6)\n",
      "('data/mc_data/mc_training/Maine_Coon/Maine_Coon_102.jpg', 6)\n",
      "('data/mc_data/mc_training/Maine_Coon/Maine_Coon_13.jpg', 6)\n",
      "('data/mc_data/mc_training/Maine_Coon/Maine_Coon_151.jpg', 6)\n",
      "('data/mc_data/mc_training/Maine_Coon/Maine_Coon_146.jpg', 6)\n",
      "('data/mc_data/mc_training/Maine_Coon/Maine_Coon_168.jpg', 6)\n",
      "('data/mc_data/mc_training/Maine_Coon/Maine_Coon_189.jpg', 6)\n",
      "('data/mc_data/mc_training/Maine_Coon/Maine_Coon_143.jpg', 6)\n",
      "\n",
      "7\n",
      "('data/mc_data/mc_training/Persian/Persian_111.jpg', 7)\n",
      "('data/mc_data/mc_training/Persian/Persian_165.jpg', 7)\n",
      "('data/mc_data/mc_training/Persian/Persian_168.jpg', 7)\n",
      "('data/mc_data/mc_training/Persian/Persian_152.jpg', 7)\n",
      "('data/mc_data/mc_training/Persian/Persian_144.jpg', 7)\n",
      "('data/mc_data/mc_training/Persian/Persian_10.jpg', 7)\n",
      "('data/mc_data/mc_training/Persian/Persian_17.jpg', 7)\n",
      "('data/mc_data/mc_training/Persian/Persian_125.jpg', 7)\n",
      "\n",
      "8\n",
      "('data/mc_data/mc_training/Ragdoll/Ragdoll_121.jpg', 8)\n",
      "('data/mc_data/mc_training/Ragdoll/Ragdoll_113.jpg', 8)\n",
      "('data/mc_data/mc_training/Ragdoll/Ragdoll_169.jpg', 8)\n",
      "('data/mc_data/mc_training/Ragdoll/Ragdoll_115.jpg', 8)\n",
      "('data/mc_data/mc_training/Ragdoll/Ragdoll_116.jpg', 8)\n",
      "('data/mc_data/mc_training/Ragdoll/Ragdoll_168.jpg', 8)\n",
      "('data/mc_data/mc_training/Ragdoll/Ragdoll_132.jpg', 8)\n",
      "('data/mc_data/mc_training/Ragdoll/Ragdoll_119.jpg', 8)\n",
      "\n",
      "9\n",
      "('data/mc_data/mc_training/Russian_Blue/Russian_Blue_168.jpg', 9)\n",
      "('data/mc_data/mc_training/Russian_Blue/Russian_Blue_102.jpg', 9)\n",
      "('data/mc_data/mc_training/Russian_Blue/Russian_Blue_158.jpg', 9)\n",
      "('data/mc_data/mc_training/Russian_Blue/Russian_Blue_150.jpg', 9)\n",
      "('data/mc_data/mc_training/Russian_Blue/Russian_Blue_117.jpg', 9)\n",
      "('data/mc_data/mc_training/Russian_Blue/Russian_Blue_116.jpg', 9)\n",
      "('data/mc_data/mc_training/Russian_Blue/Russian_Blue_114.jpg', 9)\n",
      "('data/mc_data/mc_training/Russian_Blue/Russian_Blue_107.jpg', 9)\n",
      "\n",
      "10\n",
      "('data/mc_data/mc_training/Siamese/Siamese_112.jpg', 10)\n",
      "('data/mc_data/mc_training/Siamese/Siamese_136.jpg', 10)\n",
      "('data/mc_data/mc_training/Siamese/Siamese_174.jpg', 10)\n",
      "('data/mc_data/mc_training/Siamese/Siamese_165.jpg', 10)\n",
      "('data/mc_data/mc_training/Siamese/Siamese_131.jpg', 10)\n",
      "('data/mc_data/mc_training/Siamese/Siamese_130.jpg', 10)\n",
      "('data/mc_data/mc_training/Siamese/Siamese_142.jpg', 10)\n",
      "('data/mc_data/mc_training/Siamese/Siamese_108.jpg', 10)\n",
      "\n",
      "11\n",
      "('data/mc_data/mc_training/Sphynx/Sphynx_172.jpg', 11)\n",
      "('data/mc_data/mc_training/Sphynx/Sphynx_142.jpg', 11)\n",
      "('data/mc_data/mc_training/Sphynx/Sphynx_158.jpg', 11)\n",
      "('data/mc_data/mc_training/Sphynx/Sphynx_165.jpg', 11)\n",
      "('data/mc_data/mc_training/Sphynx/Sphynx_116.jpg', 11)\n",
      "('data/mc_data/mc_training/Sphynx/Sphynx_126.jpg', 11)\n",
      "('data/mc_data/mc_training/Sphynx/Sphynx_183.jpg', 11)\n",
      "('data/mc_data/mc_training/Sphynx/Sphynx_117.jpg', 11)\n",
      "\n",
      "12\n",
      "('data/mc_data/mc_training/american_bulldog/american_bulldog_168.jpg', 12)\n",
      "('data/mc_data/mc_training/american_bulldog/american_bulldog_139.jpg', 12)\n",
      "('data/mc_data/mc_training/american_bulldog/american_bulldog_14.jpg', 12)\n",
      "('data/mc_data/mc_training/american_bulldog/american_bulldog_118.jpg', 12)\n",
      "('data/mc_data/mc_training/american_bulldog/american_bulldog_175.jpg', 12)\n",
      "('data/mc_data/mc_training/american_bulldog/american_bulldog_183.jpg', 12)\n",
      "('data/mc_data/mc_training/american_bulldog/american_bulldog_166.jpg', 12)\n",
      "('data/mc_data/mc_training/american_bulldog/american_bulldog_130.jpg', 12)\n",
      "\n",
      "13\n",
      "('data/mc_data/mc_training/american_pit_bull_terrier/american_pit_bull_terrier_134.jpg', 13)\n",
      "('data/mc_data/mc_training/american_pit_bull_terrier/american_pit_bull_terrier_148.jpg', 13)\n",
      "('data/mc_data/mc_training/american_pit_bull_terrier/american_pit_bull_terrier_16.jpg', 13)\n",
      "('data/mc_data/mc_training/american_pit_bull_terrier/american_pit_bull_terrier_107.jpg', 13)\n",
      "('data/mc_data/mc_training/american_pit_bull_terrier/american_pit_bull_terrier_104.jpg', 13)\n",
      "('data/mc_data/mc_training/american_pit_bull_terrier/american_pit_bull_terrier_123.jpg', 13)\n",
      "('data/mc_data/mc_training/american_pit_bull_terrier/american_pit_bull_terrier_167.jpg', 13)\n",
      "('data/mc_data/mc_training/american_pit_bull_terrier/american_pit_bull_terrier_122.jpg', 13)\n",
      "\n",
      "14\n",
      "('data/mc_data/mc_training/basset_hound/basset_hound_148.jpg', 14)\n",
      "('data/mc_data/mc_training/basset_hound/basset_hound_116.jpg', 14)\n",
      "('data/mc_data/mc_training/basset_hound/basset_hound_145.jpg', 14)\n",
      "('data/mc_data/mc_training/basset_hound/basset_hound_169.jpg', 14)\n",
      "('data/mc_data/mc_training/basset_hound/basset_hound_100.jpg', 14)\n",
      "('data/mc_data/mc_training/basset_hound/basset_hound_168.jpg', 14)\n",
      "('data/mc_data/mc_training/basset_hound/basset_hound_131.jpg', 14)\n",
      "('data/mc_data/mc_training/basset_hound/basset_hound_159.jpg', 14)\n",
      "\n",
      "15\n",
      "('data/mc_data/mc_training/beagle/beagle_168.jpg', 15)\n",
      "('data/mc_data/mc_training/beagle/beagle_122.jpg', 15)\n",
      "('data/mc_data/mc_training/beagle/beagle_115.jpg', 15)\n",
      "('data/mc_data/mc_training/beagle/beagle_108.jpg', 15)\n",
      "('data/mc_data/mc_training/beagle/beagle_118.jpg', 15)\n",
      "('data/mc_data/mc_training/beagle/beagle_14.jpg', 15)\n",
      "('data/mc_data/mc_training/beagle/beagle_111.jpg', 15)\n",
      "('data/mc_data/mc_training/beagle/beagle_105.jpg', 15)\n",
      "\n",
      "16\n",
      "('data/mc_data/mc_training/boxer/boxer_11.jpg', 16)\n",
      "('data/mc_data/mc_training/boxer/boxer_108.jpg', 16)\n",
      "('data/mc_data/mc_training/boxer/boxer_128.jpg', 16)\n",
      "('data/mc_data/mc_training/boxer/boxer_145.jpg', 16)\n",
      "('data/mc_data/mc_training/boxer/boxer_172.jpg', 16)\n",
      "('data/mc_data/mc_training/boxer/boxer_10.jpg', 16)\n",
      "('data/mc_data/mc_training/boxer/boxer_162.jpg', 16)\n",
      "('data/mc_data/mc_training/boxer/boxer_105.jpg', 16)\n",
      "\n",
      "17\n",
      "('data/mc_data/mc_training/chihuahua/chihuahua_102.jpg', 17)\n",
      "('data/mc_data/mc_training/chihuahua/chihuahua_134.jpg', 17)\n",
      "('data/mc_data/mc_training/chihuahua/chihuahua_142.jpg', 17)\n",
      "('data/mc_data/mc_training/chihuahua/chihuahua_161.jpg', 17)\n",
      "('data/mc_data/mc_training/chihuahua/chihuahua_155.jpg', 17)\n",
      "('data/mc_data/mc_training/chihuahua/chihuahua_157.jpg', 17)\n",
      "('data/mc_data/mc_training/chihuahua/chihuahua_159.jpg', 17)\n",
      "('data/mc_data/mc_training/chihuahua/chihuahua_156.jpg', 17)\n",
      "\n",
      "18\n",
      "('data/mc_data/mc_training/english_cocker_spaniel/english_cocker_spaniel_165.jpg', 18)\n",
      "('data/mc_data/mc_training/english_cocker_spaniel/english_cocker_spaniel_134.jpg', 18)\n",
      "('data/mc_data/mc_training/english_cocker_spaniel/english_cocker_spaniel_149.jpg', 18)\n",
      "('data/mc_data/mc_training/english_cocker_spaniel/english_cocker_spaniel_144.jpg', 18)\n",
      "('data/mc_data/mc_training/english_cocker_spaniel/english_cocker_spaniel_135.jpg', 18)\n",
      "('data/mc_data/mc_training/english_cocker_spaniel/english_cocker_spaniel_111.jpg', 18)\n",
      "('data/mc_data/mc_training/english_cocker_spaniel/english_cocker_spaniel_169.jpg', 18)\n",
      "\n",
      "19\n",
      "('data/mc_data/mc_training/english_setter/english_setter_170.jpg', 19)\n",
      "('data/mc_data/mc_training/english_setter/english_setter_14.jpg', 19)\n",
      "('data/mc_data/mc_training/english_setter/english_setter_123.jpg', 19)\n",
      "('data/mc_data/mc_training/english_setter/english_setter_158.jpg', 19)\n",
      "('data/mc_data/mc_training/english_setter/english_setter_108.jpg', 19)\n",
      "('data/mc_data/mc_training/english_setter/english_setter_15.jpg', 19)\n",
      "('data/mc_data/mc_training/english_setter/english_setter_153.jpg', 19)\n",
      "('data/mc_data/mc_training/english_setter/english_setter_130.jpg', 19)\n",
      "\n",
      "20\n",
      "('data/mc_data/mc_training/german_shorthaired/german_shorthaired_105.jpg', 20)\n",
      "('data/mc_data/mc_training/german_shorthaired/german_shorthaired_170.jpg', 20)\n",
      "('data/mc_data/mc_training/german_shorthaired/german_shorthaired_10.jpg', 20)\n",
      "('data/mc_data/mc_training/german_shorthaired/german_shorthaired_136.jpg', 20)\n",
      "('data/mc_data/mc_training/german_shorthaired/german_shorthaired_123.jpg', 20)\n",
      "('data/mc_data/mc_training/german_shorthaired/german_shorthaired_172.jpg', 20)\n",
      "('data/mc_data/mc_training/german_shorthaired/german_shorthaired_133.jpg', 20)\n",
      "('data/mc_data/mc_training/german_shorthaired/german_shorthaired_126.jpg', 20)\n",
      "\n",
      "21\n",
      "('data/mc_data/mc_training/great_pyrenees/great_pyrenees_111.jpg', 21)\n",
      "('data/mc_data/mc_training/great_pyrenees/great_pyrenees_105.jpg', 21)\n",
      "('data/mc_data/mc_training/great_pyrenees/great_pyrenees_134.jpg', 21)\n",
      "('data/mc_data/mc_training/great_pyrenees/great_pyrenees_168.jpg', 21)\n",
      "('data/mc_data/mc_training/great_pyrenees/great_pyrenees_167.jpg', 21)\n",
      "('data/mc_data/mc_training/great_pyrenees/great_pyrenees_104.jpg', 21)\n",
      "('data/mc_data/mc_training/great_pyrenees/great_pyrenees_14.jpg', 21)\n",
      "('data/mc_data/mc_training/great_pyrenees/great_pyrenees_113.jpg', 21)\n",
      "\n",
      "22\n",
      "('data/mc_data/mc_training/havanese/havanese_114.jpg', 22)\n",
      "('data/mc_data/mc_training/havanese/havanese_148.jpg', 22)\n",
      "('data/mc_data/mc_training/havanese/havanese_151.jpg', 22)\n",
      "('data/mc_data/mc_training/havanese/havanese_152.jpg', 22)\n",
      "('data/mc_data/mc_training/havanese/havanese_156.jpg', 22)\n",
      "('data/mc_data/mc_training/havanese/havanese_163.jpg', 22)\n",
      "('data/mc_data/mc_training/havanese/havanese_145.jpg', 22)\n",
      "('data/mc_data/mc_training/havanese/havanese_111.jpg', 22)\n",
      "\n",
      "23\n",
      "('data/mc_data/mc_training/japanese_chin/japanese_chin_143.jpg', 23)\n",
      "('data/mc_data/mc_training/japanese_chin/japanese_chin_121.jpg', 23)\n",
      "('data/mc_data/mc_training/japanese_chin/japanese_chin_147.jpg', 23)\n",
      "('data/mc_data/mc_training/japanese_chin/japanese_chin_152.jpg', 23)\n",
      "('data/mc_data/mc_training/japanese_chin/japanese_chin_171.jpg', 23)\n",
      "('data/mc_data/mc_training/japanese_chin/japanese_chin_142.jpg', 23)\n",
      "('data/mc_data/mc_training/japanese_chin/japanese_chin_168.jpg', 23)\n",
      "('data/mc_data/mc_training/japanese_chin/japanese_chin_170.jpg', 23)\n",
      "\n",
      "24\n",
      "('data/mc_data/mc_training/keeshond/keeshond_168.jpg', 24)\n",
      "('data/mc_data/mc_training/keeshond/keeshond_111.jpg', 24)\n",
      "('data/mc_data/mc_training/keeshond/keeshond_132.jpg', 24)\n",
      "('data/mc_data/mc_training/keeshond/keeshond_139.jpg', 24)\n",
      "('data/mc_data/mc_training/keeshond/keeshond_123.jpg', 24)\n",
      "('data/mc_data/mc_training/keeshond/keeshond_119.jpg', 24)\n",
      "('data/mc_data/mc_training/keeshond/keeshond_162.jpg', 24)\n",
      "('data/mc_data/mc_training/keeshond/keeshond_128.jpg', 24)\n",
      "\n",
      "25\n",
      "('data/mc_data/mc_training/leonberger/leonberger_159.jpg', 25)\n",
      "('data/mc_data/mc_training/leonberger/leonberger_172.jpg', 25)\n",
      "('data/mc_data/mc_training/leonberger/leonberger_154.jpg', 25)\n",
      "('data/mc_data/mc_training/leonberger/leonberger_112.jpg', 25)\n",
      "('data/mc_data/mc_training/leonberger/leonberger_149.jpg', 25)\n",
      "('data/mc_data/mc_training/leonberger/leonberger_110.jpg', 25)\n",
      "('data/mc_data/mc_training/leonberger/leonberger_117.jpg', 25)\n",
      "('data/mc_data/mc_training/leonberger/leonberger_163.jpg', 25)\n",
      "\n",
      "26\n",
      "('data/mc_data/mc_training/miniature_pinscher/miniature_pinscher_146.jpg', 26)\n",
      "('data/mc_data/mc_training/miniature_pinscher/miniature_pinscher_122.jpg', 26)\n",
      "('data/mc_data/mc_training/miniature_pinscher/miniature_pinscher_119.jpg', 26)\n",
      "('data/mc_data/mc_training/miniature_pinscher/miniature_pinscher_110.jpg', 26)\n",
      "('data/mc_data/mc_training/miniature_pinscher/miniature_pinscher_130.jpg', 26)\n",
      "('data/mc_data/mc_training/miniature_pinscher/miniature_pinscher_135.jpg', 26)\n",
      "('data/mc_data/mc_training/miniature_pinscher/miniature_pinscher_120.jpg', 26)\n",
      "('data/mc_data/mc_training/miniature_pinscher/miniature_pinscher_111.jpg', 26)\n",
      "\n",
      "27\n",
      "('data/mc_data/mc_training/newfoundland/newfoundland_100.jpg', 27)\n",
      "('data/mc_data/mc_training/newfoundland/newfoundland_146.jpg', 27)\n",
      "('data/mc_data/mc_training/newfoundland/newfoundland_130.jpg', 27)\n",
      "('data/mc_data/mc_training/newfoundland/newfoundland_162.jpg', 27)\n",
      "('data/mc_data/mc_training/newfoundland/newfoundland_14.jpg', 27)\n",
      "('data/mc_data/mc_training/newfoundland/newfoundland_110.jpg', 27)\n",
      "('data/mc_data/mc_training/newfoundland/newfoundland_101.jpg', 27)\n",
      "\n",
      "28\n",
      "('data/mc_data/mc_training/pomeranian/pomeranian_157.jpg', 28)\n",
      "('data/mc_data/mc_training/pomeranian/pomeranian_172.jpg', 28)\n",
      "('data/mc_data/mc_training/pomeranian/pomeranian_128.jpg', 28)\n",
      "('data/mc_data/mc_training/pomeranian/pomeranian_136.jpg', 28)\n",
      "('data/mc_data/mc_training/pomeranian/pomeranian_143.jpg', 28)\n",
      "('data/mc_data/mc_training/pomeranian/pomeranian_121.jpg', 28)\n",
      "('data/mc_data/mc_training/pomeranian/pomeranian_131.jpg', 28)\n",
      "('data/mc_data/mc_training/pomeranian/pomeranian_117.jpg', 28)\n",
      "\n",
      "29\n",
      "('data/mc_data/mc_training/pug/pug_141.jpg', 29)\n",
      "('data/mc_data/mc_training/pug/pug_159.jpg', 29)\n",
      "('data/mc_data/mc_training/pug/pug_127.jpg', 29)\n",
      "('data/mc_data/mc_training/pug/pug_123.jpg', 29)\n",
      "('data/mc_data/mc_training/pug/pug_106.jpg', 29)\n",
      "('data/mc_data/mc_training/pug/pug_114.jpg', 29)\n",
      "('data/mc_data/mc_training/pug/pug_167.jpg', 29)\n",
      "('data/mc_data/mc_training/pug/pug_160.jpg', 29)\n",
      "\n",
      "30\n",
      "('data/mc_data/mc_training/saint_bernard/saint_bernard_104.jpg', 30)\n",
      "('data/mc_data/mc_training/saint_bernard/saint_bernard_165.jpg', 30)\n",
      "('data/mc_data/mc_training/saint_bernard/saint_bernard_16.jpg', 30)\n",
      "('data/mc_data/mc_training/saint_bernard/saint_bernard_13.jpg', 30)\n",
      "('data/mc_data/mc_training/saint_bernard/saint_bernard_160.jpg', 30)\n",
      "('data/mc_data/mc_training/saint_bernard/saint_bernard_15.jpg', 30)\n",
      "('data/mc_data/mc_training/saint_bernard/saint_bernard_128.jpg', 30)\n",
      "('data/mc_data/mc_training/saint_bernard/saint_bernard_129.jpg', 30)\n",
      "\n",
      "31\n",
      "('data/mc_data/mc_training/samoyed/samoyed_142.jpg', 31)\n",
      "('data/mc_data/mc_training/samoyed/samoyed_166.jpg', 31)\n",
      "('data/mc_data/mc_training/samoyed/samoyed_15.jpg', 31)\n",
      "('data/mc_data/mc_training/samoyed/samoyed_133.jpg', 31)\n",
      "('data/mc_data/mc_training/samoyed/samoyed_102.jpg', 31)\n",
      "('data/mc_data/mc_training/samoyed/samoyed_171.jpg', 31)\n",
      "('data/mc_data/mc_training/samoyed/samoyed_168.jpg', 31)\n",
      "('data/mc_data/mc_training/samoyed/samoyed_118.jpg', 31)\n",
      "\n",
      "32\n",
      "('data/mc_data/mc_training/scottish_terrier/scottish_terrier_118.jpg', 32)\n",
      "('data/mc_data/mc_training/scottish_terrier/scottish_terrier_114.jpg', 32)\n",
      "('data/mc_data/mc_training/scottish_terrier/scottish_terrier_156.jpg', 32)\n",
      "('data/mc_data/mc_training/scottish_terrier/scottish_terrier_127.jpg', 32)\n",
      "('data/mc_data/mc_training/scottish_terrier/scottish_terrier_126.jpg', 32)\n",
      "('data/mc_data/mc_training/scottish_terrier/scottish_terrier_154.jpg', 32)\n",
      "('data/mc_data/mc_training/scottish_terrier/scottish_terrier_151.jpg', 32)\n",
      "('data/mc_data/mc_training/scottish_terrier/scottish_terrier_153.jpg', 32)\n",
      "\n",
      "33\n",
      "('data/mc_data/mc_training/shiba_inu/shiba_inu_178.jpg', 33)\n",
      "('data/mc_data/mc_training/shiba_inu/shiba_inu_129.jpg', 33)\n",
      "('data/mc_data/mc_training/shiba_inu/shiba_inu_119.jpg', 33)\n",
      "('data/mc_data/mc_training/shiba_inu/shiba_inu_135.jpg', 33)\n",
      "('data/mc_data/mc_training/shiba_inu/shiba_inu_101.jpg', 33)\n",
      "('data/mc_data/mc_training/shiba_inu/shiba_inu_159.jpg', 33)\n",
      "('data/mc_data/mc_training/shiba_inu/shiba_inu_166.jpg', 33)\n",
      "('data/mc_data/mc_training/shiba_inu/shiba_inu_132.jpg', 33)\n",
      "\n",
      "34\n",
      "('data/mc_data/mc_training/staffordshire_bull_terrier/staffordshire_bull_terrier_138.jpg', 34)\n",
      "('data/mc_data/mc_training/staffordshire_bull_terrier/staffordshire_bull_terrier_114.jpg', 34)\n",
      "('data/mc_data/mc_training/staffordshire_bull_terrier/staffordshire_bull_terrier_128.jpg', 34)\n",
      "('data/mc_data/mc_training/staffordshire_bull_terrier/staffordshire_bull_terrier_158.jpg', 34)\n",
      "('data/mc_data/mc_training/staffordshire_bull_terrier/staffordshire_bull_terrier_150.jpg', 34)\n",
      "('data/mc_data/mc_training/staffordshire_bull_terrier/staffordshire_bull_terrier_173.jpg', 34)\n",
      "('data/mc_data/mc_training/staffordshire_bull_terrier/staffordshire_bull_terrier_122.jpg', 34)\n",
      "('data/mc_data/mc_training/staffordshire_bull_terrier/staffordshire_bull_terrier_172.jpg', 34)\n",
      "\n",
      "35\n",
      "('data/mc_data/mc_training/wheaten_terrier/wheaten_terrier_171.jpg', 35)\n",
      "('data/mc_data/mc_training/wheaten_terrier/wheaten_terrier_135.jpg', 35)\n",
      "('data/mc_data/mc_training/wheaten_terrier/wheaten_terrier_131.jpg', 35)\n",
      "('data/mc_data/mc_training/wheaten_terrier/wheaten_terrier_127.jpg', 35)\n",
      "('data/mc_data/mc_training/wheaten_terrier/wheaten_terrier_15.jpg', 35)\n",
      "('data/mc_data/mc_training/wheaten_terrier/wheaten_terrier_134.jpg', 35)\n",
      "('data/mc_data/mc_training/wheaten_terrier/wheaten_terrier_126.jpg', 35)\n",
      "('data/mc_data/mc_training/wheaten_terrier/wheaten_terrier_154.jpg', 35)\n",
      "\n",
      "36\n",
      "('data/mc_data/mc_training/yorkshire_terrier/yorkshire_terrier_143.jpg', 36)\n",
      "('data/mc_data/mc_training/yorkshire_terrier/yorkshire_terrier_137.jpg', 36)\n",
      "('data/mc_data/mc_training/yorkshire_terrier/yorkshire_terrier_136.jpg', 36)\n",
      "('data/mc_data/mc_training/yorkshire_terrier/yorkshire_terrier_171.jpg', 36)\n",
      "('data/mc_data/mc_training/yorkshire_terrier/yorkshire_terrier_108.jpg', 36)\n",
      "('data/mc_data/mc_training/yorkshire_terrier/yorkshire_terrier_151.jpg', 36)\n",
      "('data/mc_data/mc_training/yorkshire_terrier/yorkshire_terrier_153.jpg', 36)\n",
      "('data/mc_data/mc_training/yorkshire_terrier/yorkshire_terrier_15.jpg', 36)\n",
      "\n"
     ]
    }
   ],
   "source": [
    "for c in range(len(class_labeled_indices)):\n",
    "    print(c)\n",
    "    for i in class_labeled_indices[c]:\n",
    "        print(train_set.imgs[i])\n",
    "    print()"
   ]
  },
  {
   "cell_type": "code",
   "execution_count": 7,
   "id": "1a762729",
   "metadata": {},
   "outputs": [
    {
     "name": "stdout",
     "output_type": "stream",
     "text": [
      "{0: 71, 1: 71, 2: 71, 3: 69, 4: 71, 5: 67, 6: 71, 7: 71, 8: 71, 9: 71, 10: 71, 11: 71, 12: 71, 13: 71, 14: 71, 15: 71, 16: 71, 17: 71, 18: 69, 19: 71, 20: 71, 21: 71, 22: 71, 23: 71, 24: 71, 25: 71, 26: 71, 27: 69, 28: 71, 29: 71, 30: 71, 31: 71, 32: 71, 33: 71, 34: 71, 35: 71, 36: 71}\n"
     ]
    }
   ],
   "source": [
    "dict = {}\n",
    "for i, (_, targets) in enumerate(unlabeled_subset):\n",
    "    if targets in dict:\n",
    "        dict[targets] = dict[targets] + 1\n",
    "    else:\n",
    "        dict[targets] = 0\n",
    "print(dict)"
   ]
  },
  {
   "cell_type": "code",
   "execution_count": 8,
   "id": "778ce305",
   "metadata": {},
   "outputs": [],
   "source": [
    "labeled_loader = torch.utils.data.DataLoader(\n",
    "    labeled_subset,\n",
    "    batch_size=4,\n",
    "    shuffle=True,\n",
    "    num_workers=2\n",
    ")\n",
    "\n",
    "unlabeled_loader = torch.utils.data.DataLoader(\n",
    "    unlabeled_subset,\n",
    "    batch_size=4,\n",
    "    shuffle=False,\n",
    "    num_workers=2\n",
    ")\n",
    "\n",
    "classes = train_set.classes"
   ]
  },
  {
   "cell_type": "code",
   "execution_count": 9,
   "id": "3475a9cb",
   "metadata": {},
   "outputs": [],
   "source": [
    "val_loader = torch.utils.data.DataLoader(\n",
    "        val_set,\n",
    "        batch_size=4,\n",
    "        shuffle=True,\n",
    "        num_workers=2\n",
    "    )\n",
    "test_loader = torch.utils.data.DataLoader(\n",
    "        test_set,\n",
    "        batch_size=4,\n",
    "        shuffle=True,\n",
    "        num_workers=2\n",
    "    )"
   ]
  },
  {
   "cell_type": "code",
   "execution_count": 10,
   "id": "d916249c",
   "metadata": {},
   "outputs": [
    {
     "name": "stderr",
     "output_type": "stream",
     "text": [
      "73it [00:09,  7.34it/s]"
     ]
    },
    {
     "name": "stdout",
     "output_type": "stream",
     "text": [
      "Epoch 0: loss 254.95661568641663\n"
     ]
    },
    {
     "name": "stderr",
     "output_type": "stream",
     "text": [
      "\n",
      "73it [00:06, 11.11it/s]"
     ]
    },
    {
     "name": "stdout",
     "output_type": "stream",
     "text": [
      "Epoch 1: loss 200.7350857257843\n"
     ]
    },
    {
     "name": "stderr",
     "output_type": "stream",
     "text": [
      "\n",
      "73it [00:07, 10.27it/s]"
     ]
    },
    {
     "name": "stdout",
     "output_type": "stream",
     "text": [
      "Epoch 2: loss 160.76761496067047\n"
     ]
    },
    {
     "name": "stderr",
     "output_type": "stream",
     "text": [
      "\n",
      "73it [00:08,  8.51it/s]"
     ]
    },
    {
     "name": "stdout",
     "output_type": "stream",
     "text": [
      "Epoch 3: loss 129.74821364879608\n"
     ]
    },
    {
     "name": "stderr",
     "output_type": "stream",
     "text": [
      "\n",
      "73it [00:08,  8.53it/s]"
     ]
    },
    {
     "name": "stdout",
     "output_type": "stream",
     "text": [
      "Epoch 4: loss 101.3294734954834\n"
     ]
    },
    {
     "name": "stderr",
     "output_type": "stream",
     "text": [
      "\n",
      "73it [00:08,  8.81it/s]"
     ]
    },
    {
     "name": "stdout",
     "output_type": "stream",
     "text": [
      "Epoch 5: loss 75.83285987377167\n"
     ]
    },
    {
     "name": "stderr",
     "output_type": "stream",
     "text": [
      "\n",
      "73it [00:08,  8.71it/s]"
     ]
    },
    {
     "name": "stdout",
     "output_type": "stream",
     "text": [
      "Epoch 6: loss 60.526029735803604\n"
     ]
    },
    {
     "name": "stderr",
     "output_type": "stream",
     "text": [
      "\n",
      "73it [00:08,  8.94it/s]"
     ]
    },
    {
     "name": "stdout",
     "output_type": "stream",
     "text": [
      "Epoch 7: loss 53.94249480962753\n"
     ]
    },
    {
     "name": "stderr",
     "output_type": "stream",
     "text": [
      "\n",
      "73it [00:08,  9.04it/s]"
     ]
    },
    {
     "name": "stdout",
     "output_type": "stream",
     "text": [
      "Epoch 8: loss 46.16460299491882\n"
     ]
    },
    {
     "name": "stderr",
     "output_type": "stream",
     "text": [
      "\n",
      "73it [00:08,  8.93it/s]"
     ]
    },
    {
     "name": "stdout",
     "output_type": "stream",
     "text": [
      "Epoch 9: loss 38.46992293000221\n"
     ]
    },
    {
     "name": "stderr",
     "output_type": "stream",
     "text": [
      "\n",
      "73it [00:08,  8.49it/s]"
     ]
    },
    {
     "name": "stdout",
     "output_type": "stream",
     "text": [
      "Epoch 10: loss 33.395109444856644\n"
     ]
    },
    {
     "name": "stderr",
     "output_type": "stream",
     "text": [
      "\n",
      "73it [00:08,  8.14it/s]"
     ]
    },
    {
     "name": "stdout",
     "output_type": "stream",
     "text": [
      "Epoch 11: loss 28.44292240589857\n"
     ]
    },
    {
     "name": "stderr",
     "output_type": "stream",
     "text": [
      "\n",
      "73it [00:08,  8.71it/s]"
     ]
    },
    {
     "name": "stdout",
     "output_type": "stream",
     "text": [
      "Epoch 12: loss 25.48488650470972\n"
     ]
    },
    {
     "name": "stderr",
     "output_type": "stream",
     "text": [
      "\n",
      "73it [00:08,  8.99it/s]"
     ]
    },
    {
     "name": "stdout",
     "output_type": "stream",
     "text": [
      "Epoch 13: loss 27.545086286962032\n"
     ]
    },
    {
     "name": "stderr",
     "output_type": "stream",
     "text": [
      "\n",
      "73it [00:08,  8.66it/s]"
     ]
    },
    {
     "name": "stdout",
     "output_type": "stream",
     "text": [
      "Epoch 14: loss 25.008963234722614\n"
     ]
    },
    {
     "name": "stderr",
     "output_type": "stream",
     "text": [
      "\n",
      "73it [00:08,  8.70it/s]"
     ]
    },
    {
     "name": "stdout",
     "output_type": "stream",
     "text": [
      "Epoch 15: loss 23.90783540159464\n"
     ]
    },
    {
     "name": "stderr",
     "output_type": "stream",
     "text": [
      "\n",
      "73it [00:08,  8.65it/s]"
     ]
    },
    {
     "name": "stdout",
     "output_type": "stream",
     "text": [
      "Epoch 16: loss 22.134574007242918\n"
     ]
    },
    {
     "name": "stderr",
     "output_type": "stream",
     "text": [
      "\n",
      "73it [00:08,  8.75it/s]"
     ]
    },
    {
     "name": "stdout",
     "output_type": "stream",
     "text": [
      "Epoch 17: loss 19.633832290768623\n"
     ]
    },
    {
     "name": "stderr",
     "output_type": "stream",
     "text": [
      "\n",
      "73it [00:09,  7.93it/s]"
     ]
    },
    {
     "name": "stdout",
     "output_type": "stream",
     "text": [
      "Epoch 18: loss 18.41041848063469\n"
     ]
    },
    {
     "name": "stderr",
     "output_type": "stream",
     "text": [
      "\n",
      "73it [00:08,  8.64it/s]\n"
     ]
    },
    {
     "name": "stdout",
     "output_type": "stream",
     "text": [
      "Epoch 19: loss 18.829732317477465\n"
     ]
    }
   ],
   "source": [
    "model = mc.FineTunedResNet(37)\n",
    "model.train(labeled_loader, 20)"
   ]
  },
  {
   "cell_type": "code",
   "execution_count": 11,
   "id": "596952e0",
   "metadata": {},
   "outputs": [
    {
     "data": {
      "text/plain": [
       "(array([[0.65      ],\n",
       "        [0.45      ],\n",
       "        [0.85      ],\n",
       "        [0.84210526],\n",
       "        [0.75      ],\n",
       "        [0.66666667],\n",
       "        [0.75      ],\n",
       "        [0.8       ],\n",
       "        [0.9       ],\n",
       "        [0.6       ],\n",
       "        [1.        ],\n",
       "        [1.        ],\n",
       "        [0.95      ],\n",
       "        [0.75      ],\n",
       "        [0.9       ],\n",
       "        [0.8       ],\n",
       "        [0.7       ],\n",
       "        [0.65      ],\n",
       "        [0.78947368],\n",
       "        [0.85      ],\n",
       "        [0.9       ],\n",
       "        [0.9       ],\n",
       "        [0.65      ],\n",
       "        [1.        ],\n",
       "        [1.        ],\n",
       "        [0.55      ],\n",
       "        [0.85      ],\n",
       "        [0.94736842],\n",
       "        [0.95      ],\n",
       "        [0.95      ],\n",
       "        [0.95      ],\n",
       "        [1.        ],\n",
       "        [0.7       ],\n",
       "        [0.95      ],\n",
       "        [0.8       ],\n",
       "        [1.        ],\n",
       "        [1.        ]]),\n",
       " 0.8310626702997275)"
      ]
     },
     "execution_count": 11,
     "metadata": {},
     "output_type": "execute_result"
    }
   ],
   "source": [
    "model.validate(val_loader)"
   ]
  },
  {
   "cell_type": "code",
   "execution_count": 12,
   "id": "8a000bad",
   "metadata": {},
   "outputs": [
    {
     "data": {
      "text/plain": [
       "(array([[0.62244898],\n",
       "        [0.69      ],\n",
       "        [0.73      ],\n",
       "        [0.57954545],\n",
       "        [0.55      ],\n",
       "        [0.71134021],\n",
       "        [0.68      ],\n",
       "        [0.71      ],\n",
       "        [0.64      ],\n",
       "        [0.6       ],\n",
       "        [0.8       ],\n",
       "        [0.85      ],\n",
       "        [0.87      ],\n",
       "        [0.47      ],\n",
       "        [0.9       ],\n",
       "        [0.98      ],\n",
       "        [0.8989899 ],\n",
       "        [0.61      ],\n",
       "        [0.88      ],\n",
       "        [0.88      ],\n",
       "        [0.99      ],\n",
       "        [0.88      ],\n",
       "        [0.81      ],\n",
       "        [0.98      ],\n",
       "        [1.        ],\n",
       "        [0.8       ],\n",
       "        [0.83      ],\n",
       "        [0.98      ],\n",
       "        [0.76      ],\n",
       "        [0.99      ],\n",
       "        [0.97      ],\n",
       "        [1.        ],\n",
       "        [0.80808081],\n",
       "        [0.98      ],\n",
       "        [0.58426966],\n",
       "        [0.97      ],\n",
       "        [1.        ]]),\n",
       " 0.8119378577269011)"
      ]
     },
     "execution_count": 12,
     "metadata": {},
     "output_type": "execute_result"
    }
   ],
   "source": [
    "model.validate(test_loader)"
   ]
  },
  {
   "cell_type": "code",
   "execution_count": 13,
   "id": "3afbe027",
   "metadata": {},
   "outputs": [
    {
     "data": {
      "text/plain": [
       "(array([[0.76388889],\n",
       "        [0.65277778],\n",
       "        [0.80555556],\n",
       "        [0.77142857],\n",
       "        [0.79166667],\n",
       "        [0.79411765],\n",
       "        [0.875     ],\n",
       "        [0.84722222],\n",
       "        [0.69444444],\n",
       "        [0.58333333],\n",
       "        [0.91666667],\n",
       "        [0.98611111],\n",
       "        [0.72222222],\n",
       "        [0.76388889],\n",
       "        [0.95833333],\n",
       "        [0.88888889],\n",
       "        [0.88888889],\n",
       "        [0.68055556],\n",
       "        [0.78571429],\n",
       "        [0.84722222],\n",
       "        [0.90277778],\n",
       "        [0.91666667],\n",
       "        [0.76388889],\n",
       "        [0.91666667],\n",
       "        [0.97222222],\n",
       "        [0.83333333],\n",
       "        [0.84722222],\n",
       "        [0.97142857],\n",
       "        [0.90277778],\n",
       "        [0.98611111],\n",
       "        [0.94444444],\n",
       "        [0.95833333],\n",
       "        [0.83333333],\n",
       "        [0.91666667],\n",
       "        [0.79166667],\n",
       "        [0.98611111],\n",
       "        [0.90277778]]),\n",
       " 0.8477769404672193)"
      ]
     },
     "execution_count": 13,
     "metadata": {},
     "output_type": "execute_result"
    }
   ],
   "source": [
    "model.validate(unlabeled_loader)"
   ]
  },
  {
   "cell_type": "code",
   "execution_count": 14,
   "id": "d518d58e",
   "metadata": {},
   "outputs": [],
   "source": [
    "def generate_pseudo_labels(model, unlabeled_loader, confidence=0.9):\n",
    "        pseudo_labels = []\n",
    "        high_conf_indices = []\n",
    "        device = torch.device(\"cuda\" if torch.cuda.is_available() else \"cpu\")\n",
    "        with torch.no_grad():\n",
    "            for i, (x, _) in enumerate(unlabeled_loader):\n",
    "                x = x.to(device)\n",
    "                c = []\n",
    "                output = model.model(x)\n",
    "                for j in range(len(output)):\n",
    "                    pred = output[j].argmax()\n",
    "                    max_conf = torch.nn.functional.softmax(output[j], dim=0).max()\n",
    "                    if max_conf >= confidence:\n",
    "                        c.append(pred)\n",
    "                        high_conf_indices.append(i * unlabeled_loader.batch_size + j)\n",
    "\n",
    "                pseudo_labels.extend(c)\n",
    "        return pseudo_labels, high_conf_indices\n",
    "    \n",
    "\n",
    "ps_labels, high_conf_indices = generate_pseudo_labels(model, unlabeled_loader, confidence=0.2)"
   ]
  },
  {
   "cell_type": "code",
   "execution_count": 15,
   "id": "acdb017c",
   "metadata": {},
   "outputs": [],
   "source": [
    "ps_subset = torch.utils.data.Subset(unlabeled_subset, high_conf_indices)"
   ]
  },
  {
   "cell_type": "code",
   "execution_count": 17,
   "id": "f46d8bbc",
   "metadata": {},
   "outputs": [
    {
     "data": {
      "text/plain": [
       "0.8548761609907121"
      ]
     },
     "execution_count": 17,
     "metadata": {},
     "output_type": "execute_result"
    }
   ],
   "source": [
    "correct = 0\n",
    "for i, (x,y) in enumerate(ps_subset):\n",
    "    if y == int(ps_labels[i]):\n",
    "        correct += 1\n",
    "correct/len(ps_subset)"
   ]
  },
  {
   "cell_type": "code",
   "execution_count": 18,
   "id": "92629840",
   "metadata": {},
   "outputs": [
    {
     "data": {
      "text/plain": [
       "2584"
      ]
     },
     "execution_count": 18,
     "metadata": {},
     "output_type": "execute_result"
    }
   ],
   "source": [
    "len(ps_subset)"
   ]
  },
  {
   "cell_type": "code",
   "execution_count": 19,
   "id": "23ac4bb4",
   "metadata": {},
   "outputs": [],
   "source": [
    "class PseudoLabeledDataset(torch.utils.data.Dataset):\n",
    "    def __init__(self, labeled_ds, unlabeled_ds, pseudo_labels):\n",
    "        self.labeled = labeled_ds\n",
    "        self.unlabeled = unlabeled_ds\n",
    "        self.pseudo_labels = pseudo_labels\n",
    "    \n",
    "    def __len__(self):\n",
    "        return len(self.labeled) + len(self.unlabeled)\n",
    "    \n",
    "    def __getitem__(self, index):\n",
    "        if index < len(self.labeled):\n",
    "            labeled_data = self.labeled[index]\n",
    "            return labeled_data[0], labeled_data[1]  \n",
    "        else:\n",
    "            pseudo_index = index - len(self.labeled)\n",
    "            unlabeled_data = self.unlabeled[pseudo_index][0]\n",
    "            pseudo_label = int(self.pseudo_labels[pseudo_index])\n",
    "            return unlabeled_data, pseudo_label\n",
    "    "
   ]
  },
  {
   "cell_type": "code",
   "execution_count": 20,
   "id": "46439dd7",
   "metadata": {},
   "outputs": [],
   "source": [
    "ps_trainset = PseudoLabeledDataset(labeled_subset, ps_subset, ps_labels)\n",
    "ps_loader = torch.utils.data.DataLoader(\n",
    "        ps_trainset,\n",
    "        batch_size=4,\n",
    "        shuffle=True,\n",
    "        num_workers=0\n",
    "    )"
   ]
  },
  {
   "cell_type": "code",
   "execution_count": 21,
   "id": "14eb6bd8",
   "metadata": {
    "scrolled": true
   },
   "outputs": [
    {
     "name": "stderr",
     "output_type": "stream",
     "text": [
      "719it [00:48, 14.88it/s]\n"
     ]
    },
    {
     "name": "stdout",
     "output_type": "stream",
     "text": [
      "Epoch 0: loss 1588.021828353405\n"
     ]
    },
    {
     "name": "stderr",
     "output_type": "stream",
     "text": [
      "719it [00:57, 12.46it/s]\n"
     ]
    },
    {
     "name": "stdout",
     "output_type": "stream",
     "text": [
      "Epoch 1: loss 788.5089599788189\n"
     ]
    },
    {
     "name": "stderr",
     "output_type": "stream",
     "text": [
      "719it [01:01, 11.65it/s]\n"
     ]
    },
    {
     "name": "stdout",
     "output_type": "stream",
     "text": [
      "Epoch 2: loss 520.8223583698273\n"
     ]
    },
    {
     "name": "stderr",
     "output_type": "stream",
     "text": [
      "719it [00:52, 13.57it/s]\n"
     ]
    },
    {
     "name": "stdout",
     "output_type": "stream",
     "text": [
      "Epoch 3: loss 375.4866352006793\n"
     ]
    },
    {
     "name": "stderr",
     "output_type": "stream",
     "text": [
      "719it [00:48, 14.80it/s]\n"
     ]
    },
    {
     "name": "stdout",
     "output_type": "stream",
     "text": [
      "Epoch 4: loss 302.1360163837671\n"
     ]
    },
    {
     "name": "stderr",
     "output_type": "stream",
     "text": [
      "719it [00:56, 12.62it/s]\n"
     ]
    },
    {
     "name": "stdout",
     "output_type": "stream",
     "text": [
      "Epoch 5: loss 241.5358338141814\n"
     ]
    },
    {
     "name": "stderr",
     "output_type": "stream",
     "text": [
      "719it [01:20,  8.93it/s]\n"
     ]
    },
    {
     "name": "stdout",
     "output_type": "stream",
     "text": [
      "Epoch 6: loss 207.62592354789376\n"
     ]
    },
    {
     "name": "stderr",
     "output_type": "stream",
     "text": [
      "719it [01:25,  8.42it/s]\n"
     ]
    },
    {
     "name": "stdout",
     "output_type": "stream",
     "text": [
      "Epoch 7: loss 180.96079348400235\n"
     ]
    },
    {
     "name": "stderr",
     "output_type": "stream",
     "text": [
      "719it [01:02, 11.52it/s]\n"
     ]
    },
    {
     "name": "stdout",
     "output_type": "stream",
     "text": [
      "Epoch 8: loss 159.13859037472866\n"
     ]
    },
    {
     "name": "stderr",
     "output_type": "stream",
     "text": [
      "719it [00:55, 12.86it/s]\n"
     ]
    },
    {
     "name": "stdout",
     "output_type": "stream",
     "text": [
      "Epoch 9: loss 137.51581201481167\n"
     ]
    },
    {
     "name": "stderr",
     "output_type": "stream",
     "text": [
      "719it [01:09, 10.34it/s]\n"
     ]
    },
    {
     "name": "stdout",
     "output_type": "stream",
     "text": [
      "Epoch 10: loss 119.89766450040042\n"
     ]
    },
    {
     "name": "stderr",
     "output_type": "stream",
     "text": [
      "719it [00:57, 12.59it/s]\n"
     ]
    },
    {
     "name": "stdout",
     "output_type": "stream",
     "text": [
      "Epoch 11: loss 106.57983703853097\n"
     ]
    },
    {
     "name": "stderr",
     "output_type": "stream",
     "text": [
      "719it [00:55, 13.00it/s]\n"
     ]
    },
    {
     "name": "stdout",
     "output_type": "stream",
     "text": [
      "Epoch 12: loss 98.04784004285466\n"
     ]
    },
    {
     "name": "stderr",
     "output_type": "stream",
     "text": [
      "719it [01:18,  9.12it/s]\n"
     ]
    },
    {
     "name": "stdout",
     "output_type": "stream",
     "text": [
      "Epoch 13: loss 89.11583813483594\n"
     ]
    },
    {
     "name": "stderr",
     "output_type": "stream",
     "text": [
      "719it [01:08, 10.51it/s]\n"
     ]
    },
    {
     "name": "stdout",
     "output_type": "stream",
     "text": [
      "Epoch 14: loss 86.21440769633045\n"
     ]
    },
    {
     "name": "stderr",
     "output_type": "stream",
     "text": [
      "719it [01:05, 10.97it/s]\n"
     ]
    },
    {
     "name": "stdout",
     "output_type": "stream",
     "text": [
      "Epoch 15: loss 79.08621838741237\n"
     ]
    },
    {
     "name": "stderr",
     "output_type": "stream",
     "text": [
      "719it [01:13,  9.72it/s]\n"
     ]
    },
    {
     "name": "stdout",
     "output_type": "stream",
     "text": [
      "Epoch 16: loss 74.0737152909278\n"
     ]
    },
    {
     "name": "stderr",
     "output_type": "stream",
     "text": [
      "719it [01:13,  9.75it/s]\n"
     ]
    },
    {
     "name": "stdout",
     "output_type": "stream",
     "text": [
      "Epoch 17: loss 71.66249714780133\n"
     ]
    },
    {
     "name": "stderr",
     "output_type": "stream",
     "text": [
      "719it [01:05, 11.03it/s]\n"
     ]
    },
    {
     "name": "stdout",
     "output_type": "stream",
     "text": [
      "Epoch 18: loss 65.49375093332492\n"
     ]
    },
    {
     "name": "stderr",
     "output_type": "stream",
     "text": [
      "719it [01:24,  8.53it/s]\n"
     ]
    },
    {
     "name": "stdout",
     "output_type": "stream",
     "text": [
      "Epoch 19: loss 59.01214573858306\n"
     ]
    }
   ],
   "source": [
    "ps_model = mc.FineTunedResNet(37)\n",
    "ps_model.train(ps_loader, 20)"
   ]
  },
  {
   "cell_type": "code",
   "execution_count": 22,
   "id": "0ca60908",
   "metadata": {},
   "outputs": [
    {
     "data": {
      "text/plain": [
       "(array([[0.8       ],\n",
       "        [0.65      ],\n",
       "        [0.8       ],\n",
       "        [0.89473684],\n",
       "        [0.65      ],\n",
       "        [0.83333333],\n",
       "        [0.85      ],\n",
       "        [0.9       ],\n",
       "        [0.75      ],\n",
       "        [0.5       ],\n",
       "        [1.        ],\n",
       "        [1.        ],\n",
       "        [0.95      ],\n",
       "        [0.55      ],\n",
       "        [0.9       ],\n",
       "        [0.75      ],\n",
       "        [0.75      ],\n",
       "        [0.4       ],\n",
       "        [0.94736842],\n",
       "        [1.        ],\n",
       "        [0.9       ],\n",
       "        [0.9       ],\n",
       "        [0.7       ],\n",
       "        [1.        ],\n",
       "        [1.        ],\n",
       "        [0.85      ],\n",
       "        [0.9       ],\n",
       "        [0.94736842],\n",
       "        [0.9       ],\n",
       "        [0.95      ],\n",
       "        [0.95      ],\n",
       "        [0.95      ],\n",
       "        [0.7       ],\n",
       "        [0.95      ],\n",
       "        [0.9       ],\n",
       "        [1.        ],\n",
       "        [1.        ]]),\n",
       " 0.8474114441416893)"
      ]
     },
     "execution_count": 22,
     "metadata": {},
     "output_type": "execute_result"
    }
   ],
   "source": [
    "ps_model.validate(val_loader)"
   ]
  },
  {
   "cell_type": "code",
   "execution_count": 23,
   "id": "fcaad9c1",
   "metadata": {},
   "outputs": [
    {
     "data": {
      "text/plain": [
       "(array([[0.70408163],\n",
       "        [0.79      ],\n",
       "        [0.62      ],\n",
       "        [0.85227273],\n",
       "        [0.72      ],\n",
       "        [0.79381443],\n",
       "        [0.74      ],\n",
       "        [0.85      ],\n",
       "        [0.56      ],\n",
       "        [0.64      ],\n",
       "        [0.91      ],\n",
       "        [0.91      ],\n",
       "        [0.88      ],\n",
       "        [0.42      ],\n",
       "        [0.95      ],\n",
       "        [0.93      ],\n",
       "        [0.93939394],\n",
       "        [0.82      ],\n",
       "        [0.93      ],\n",
       "        [0.98      ],\n",
       "        [1.        ],\n",
       "        [0.96      ],\n",
       "        [0.87      ],\n",
       "        [0.98      ],\n",
       "        [1.        ],\n",
       "        [0.95      ],\n",
       "        [0.94      ],\n",
       "        [0.99      ],\n",
       "        [0.92      ],\n",
       "        [0.99      ],\n",
       "        [0.98      ],\n",
       "        [1.        ],\n",
       "        [0.86868687],\n",
       "        [0.95      ],\n",
       "        [0.62921348],\n",
       "        [0.95      ],\n",
       "        [0.97      ]]),\n",
       " 0.8626328699918234)"
      ]
     },
     "execution_count": 23,
     "metadata": {},
     "output_type": "execute_result"
    }
   ],
   "source": [
    "ps_model.validate(test_loader)"
   ]
  },
  {
   "cell_type": "code",
   "execution_count": null,
   "id": "32863656",
   "metadata": {},
   "outputs": [],
   "source": []
  }
 ],
 "metadata": {
  "kernelspec": {
   "display_name": "Python 3",
   "language": "python",
   "name": "python3"
  },
  "language_info": {
   "codemirror_mode": {
    "name": "ipython",
    "version": 3
   },
   "file_extension": ".py",
   "mimetype": "text/x-python",
   "name": "python",
   "nbconvert_exporter": "python",
   "pygments_lexer": "ipython3",
   "version": "3.10.10"
  }
 },
 "nbformat": 4,
 "nbformat_minor": 5
}
